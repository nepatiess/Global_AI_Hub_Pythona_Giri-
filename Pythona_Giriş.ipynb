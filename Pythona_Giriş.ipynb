{
  "nbformat": 4,
  "nbformat_minor": 0,
  "metadata": {
    "colab": {
      "provenance": [],
      "collapsed_sections": [
        "OMmvC3IabnDb",
        "w4ftr-X6a4RZ",
        "XPbG9bhqbNNy",
        "Uwe1NQmBbd5B",
        "mnZlaWe4Ehe5",
        "qDmsSFyotu3S",
        "wQMFOoWY3BUs",
        "aDjnnmB8t9hl",
        "mDlmWo7w2dYQ"
      ],
      "include_colab_link": true
    },
    "kernelspec": {
      "name": "python3",
      "display_name": "Python 3"
    },
    "language_info": {
      "name": "python"
    }
  },
  "cells": [
    {
      "cell_type": "markdown",
      "metadata": {
        "id": "view-in-github",
        "colab_type": "text"
      },
      "source": [
        "<a href=\"https://colab.research.google.com/github/nepatiess/Global_AI_Hub_Pythona_Giris/blob/main/Pythona_Giri%C5%9F.ipynb\" target=\"_parent\"><img src=\"https://colab.research.google.com/assets/colab-badge.svg\" alt=\"Open In Colab\"/></a>"
      ]
    },
    {
      "cell_type": "markdown",
      "source": [
        "## Introduction"
      ],
      "metadata": {
        "id": "OMmvC3IabnDb"
      }
    },
    {
      "cell_type": "code",
      "execution_count": null,
      "metadata": {
        "colab": {
          "base_uri": "https://localhost:8080/"
        },
        "id": "enf2mi3aofnj",
        "outputId": "59eedb41-88fc-4d21-d9ac-5d386b6eb841"
      },
      "outputs": [
        {
          "output_type": "stream",
          "name": "stdout",
          "text": [
            "\n",
            "Welcome to Python 3.10's help utility!\n",
            "\n",
            "If this is your first time using Python, you should definitely check out\n",
            "the tutorial on the internet at https://docs.python.org/3.10/tutorial/.\n",
            "\n",
            "Enter the name of any module, keyword, or topic to get help on writing\n",
            "Python programs and using Python modules.  To quit this help utility and\n",
            "return to the interpreter, just type \"quit\".\n",
            "\n",
            "To get a list of available modules, keywords, symbols, or topics, type\n",
            "\"modules\", \"keywords\", \"symbols\", or \"topics\".  Each module also comes\n",
            "with a one-line summary of what it does; to list the modules whose name\n",
            "or summary contain a given string such as \"spam\", type \"modules spam\".\n",
            "\n",
            "help> keywords\n",
            "\n",
            "Here is a list of the Python keywords.  Enter any keyword to get more help.\n",
            "\n",
            "False               class               from                or\n",
            "None                continue            global              pass\n",
            "True                def                 if                  raise\n",
            "and                 del                 import              return\n",
            "as                  elif                in                  try\n",
            "assert              else                is                  while\n",
            "async               except              lambda              with\n",
            "await               finally             nonlocal            yield\n",
            "break               for                 not                 \n",
            "\n",
            "\n",
            "You are now leaving help and returning to the Python interpreter.\n",
            "If you want to ask for help on a particular object directly from the\n",
            "interpreter, you can type \"help(object)\".  Executing \"help('string')\"\n",
            "has the same effect as typing a particular string at the help> prompt.\n"
          ]
        }
      ],
      "source": [
        "help()"
      ]
    },
    {
      "cell_type": "code",
      "source": [
        "fav_number = 12\n",
        "if fav_number < 15:\n",
        "    print(\"My favourite number is smaller than 15\")"
      ],
      "metadata": {
        "colab": {
          "base_uri": "https://localhost:8080/"
        },
        "id": "QzoIJWe2owXj",
        "outputId": "ae876099-e95a-4816-9459-cc1c406ea9db"
      },
      "execution_count": null,
      "outputs": [
        {
          "output_type": "stream",
          "name": "stdout",
          "text": [
            "My favourite number is smaller than 15\n"
          ]
        }
      ]
    },
    {
      "cell_type": "code",
      "source": [
        "pi = 3.14\n",
        "print(pi)"
      ],
      "metadata": {
        "colab": {
          "base_uri": "https://localhost:8080/"
        },
        "id": "udVoEIbgwUvU",
        "outputId": "573f1931-fe13-4f32-ed65-081778840d66"
      },
      "execution_count": null,
      "outputs": [
        {
          "output_type": "stream",
          "name": "stdout",
          "text": [
            "3.14\n"
          ]
        }
      ]
    },
    {
      "cell_type": "code",
      "source": [
        "#obviously this function shows a greeting message according to the given name :)\n",
        "def greetings(name):\n",
        "  print(f'Hello, {name}')"
      ],
      "metadata": {
        "id": "usm7wydZwdP0"
      },
      "execution_count": null,
      "outputs": []
    },
    {
      "cell_type": "code",
      "source": [
        "pi = 3.14\n",
        "if pi < 3.15:\n",
        "  pi = pi + 0.1\n",
        "\n",
        "  print(pi)"
      ],
      "metadata": {
        "colab": {
          "base_uri": "https://localhost:8080/"
        },
        "id": "QA9Ke7XbwpjE",
        "outputId": "5f4700aa-83ed-43c1-da33-ad637ff6d0a7"
      },
      "execution_count": null,
      "outputs": [
        {
          "output_type": "stream",
          "name": "stdout",
          "text": [
            "3.24\n"
          ]
        }
      ]
    },
    {
      "cell_type": "code",
      "source": [
        "def greeting(name):\n",
        "  print('hello ' + name)\n",
        "greeting('Zeynep')"
      ],
      "metadata": {
        "colab": {
          "base_uri": "https://localhost:8080/"
        },
        "id": "c7MMi5QtxAq0",
        "outputId": "7004c41e-48dd-4e63-ebb0-792c7af79173"
      },
      "execution_count": null,
      "outputs": [
        {
          "output_type": "stream",
          "name": "stdout",
          "text": [
            "hello Zeynep\n"
          ]
        }
      ]
    },
    {
      "cell_type": "code",
      "source": [
        "\"\"\"\n",
        "This is a long comment that can make the code harder to read on a small screen,\n",
        " so it needs to be broken into multiple lines using triple-quotes instead of\n",
        " putting a hash symbol in front of each line\n",
        "\"\"\"\n",
        "def greetings(name):\n",
        "  print(f'Hello, {name}')"
      ],
      "metadata": {
        "id": "DiI_pJMfxSzU"
      },
      "execution_count": null,
      "outputs": []
    },
    {
      "cell_type": "code",
      "source": [
        "name = 'Zeynep'\n",
        "name"
      ],
      "metadata": {
        "colab": {
          "base_uri": "https://localhost:8080/",
          "height": 35
        },
        "id": "dPebYgUDM2oG",
        "outputId": "f9047e8e-54c3-443f-871c-e9a6faf851a6"
      },
      "execution_count": null,
      "outputs": [
        {
          "output_type": "execute_result",
          "data": {
            "text/plain": [
              "'Zeynep'"
            ],
            "application/vnd.google.colaboratory.intrinsic+json": {
              "type": "string"
            }
          },
          "metadata": {},
          "execution_count": 11
        }
      ]
    },
    {
      "cell_type": "code",
      "source": [
        "age = 21\n",
        "age"
      ],
      "metadata": {
        "colab": {
          "base_uri": "https://localhost:8080/"
        },
        "id": "srHsjGlyM7qW",
        "outputId": "3faf280b-51c8-4135-ee8c-1b23295e92cd"
      },
      "execution_count": null,
      "outputs": [
        {
          "output_type": "execute_result",
          "data": {
            "text/plain": [
              "21"
            ]
          },
          "metadata": {},
          "execution_count": 14
        }
      ]
    },
    {
      "cell_type": "code",
      "source": [
        "print(name)\n",
        "print(age)"
      ],
      "metadata": {
        "colab": {
          "base_uri": "https://localhost:8080/"
        },
        "id": "LxWVE_0kM-Qe",
        "outputId": "4e565f29-2ad4-48d9-9050-e9207934a8ce"
      },
      "execution_count": null,
      "outputs": [
        {
          "output_type": "stream",
          "name": "stdout",
          "text": [
            "Zeynep\n",
            "21\n"
          ]
        }
      ]
    },
    {
      "cell_type": "code",
      "source": [
        "print(type(name))\n",
        "print(type(age))"
      ],
      "metadata": {
        "colab": {
          "base_uri": "https://localhost:8080/"
        },
        "id": "blUIry3LNENW",
        "outputId": "61151c0f-a654-4ab8-b52b-ac06acfc05f6"
      },
      "execution_count": null,
      "outputs": [
        {
          "output_type": "stream",
          "name": "stdout",
          "text": [
            "<class 'str'>\n",
            "<class 'int'>\n"
          ]
        }
      ]
    },
    {
      "cell_type": "code",
      "source": [
        "name = 'Zeynep'\n",
        "type(name)"
      ],
      "metadata": {
        "colab": {
          "base_uri": "https://localhost:8080/"
        },
        "id": "3SXL-dXHNLx1",
        "outputId": "f5a681fa-c3db-4372-e97b-32880284e791"
      },
      "execution_count": null,
      "outputs": [
        {
          "output_type": "execute_result",
          "data": {
            "text/plain": [
              "str"
            ]
          },
          "metadata": {},
          "execution_count": 17
        }
      ]
    },
    {
      "cell_type": "code",
      "source": [
        "age = 25\n",
        "type(age)"
      ],
      "metadata": {
        "colab": {
          "base_uri": "https://localhost:8080/"
        },
        "id": "Z6HqgVF6QgDB",
        "outputId": "b59680bf-1b63-4c74-d2f1-f2ab2c6884db"
      },
      "execution_count": null,
      "outputs": [
        {
          "output_type": "execute_result",
          "data": {
            "text/plain": [
              "int"
            ]
          },
          "metadata": {},
          "execution_count": 18
        }
      ]
    },
    {
      "cell_type": "code",
      "source": [
        "pi = 3.14\n",
        "type(pi)"
      ],
      "metadata": {
        "colab": {
          "base_uri": "https://localhost:8080/"
        },
        "id": "IUmo5nG2QjWM",
        "outputId": "73b351bd-535a-46d0-91ed-05ba1bd64825"
      },
      "execution_count": null,
      "outputs": [
        {
          "output_type": "execute_result",
          "data": {
            "text/plain": [
              "float"
            ]
          },
          "metadata": {},
          "execution_count": 19
        }
      ]
    },
    {
      "cell_type": "code",
      "source": [
        "#Store_items =     0      1       2     3     4      5       6       7\n",
        "store_items = ['Apple', 1.46, 'Banana', 1, 'Milk', 2.99, 'Cheese', 4.49]\n",
        "print(store_items, type(store_items))\n",
        "#There are 8 elements in list.\n",
        "print(len(store_items))"
      ],
      "metadata": {
        "colab": {
          "base_uri": "https://localhost:8080/"
        },
        "id": "yfg1TCV2QmRM",
        "outputId": "fd775115-cec8-4a21-aa2b-0e4601857e9c"
      },
      "execution_count": null,
      "outputs": [
        {
          "output_type": "stream",
          "name": "stdout",
          "text": [
            "['Apple', 1.46, 'Banana', 1, 'Milk', 2.99, 'Cheese', 4.49] <class 'list'>\n",
            "8\n"
          ]
        }
      ]
    },
    {
      "cell_type": "code",
      "source": [
        "#2. item\n",
        "print(store_items[2])"
      ],
      "metadata": {
        "colab": {
          "base_uri": "https://localhost:8080/"
        },
        "id": "X-PcAXNSRNDi",
        "outputId": "1da53461-0d90-47f3-a047-16ad145bd3e4"
      },
      "execution_count": null,
      "outputs": [
        {
          "output_type": "stream",
          "name": "stdout",
          "text": [
            "Banana\n"
          ]
        }
      ]
    },
    {
      "cell_type": "code",
      "source": [
        "#0'dan 4'e kadar olan itemlar\n",
        "print(store_items[0:4])"
      ],
      "metadata": {
        "colab": {
          "base_uri": "https://localhost:8080/"
        },
        "id": "3INlVHFjRQyQ",
        "outputId": "a9c20fa9-0059-43c5-df35-8a6e1a821d71"
      },
      "execution_count": null,
      "outputs": [
        {
          "output_type": "stream",
          "name": "stdout",
          "text": [
            "['Apple', 1.46, 'Banana', 1]\n"
          ]
        }
      ]
    },
    {
      "cell_type": "code",
      "source": [
        "#2'den sonuna kadar olan itemlar\n",
        "print(store_items[2:])"
      ],
      "metadata": {
        "colab": {
          "base_uri": "https://localhost:8080/"
        },
        "id": "WfHEzIxKUG5Q",
        "outputId": "32af9e8d-0fb1-4a17-d4c5-e70e62515257"
      },
      "execution_count": null,
      "outputs": [
        {
          "output_type": "stream",
          "name": "stdout",
          "text": [
            "['Banana', 1, 'Milk', 2.99, 'Cheese', 4.49]\n"
          ]
        }
      ]
    },
    {
      "cell_type": "code",
      "source": [
        "#en baştan 2'ye kadar olan itemlar\n",
        "print(store_items[:2])"
      ],
      "metadata": {
        "colab": {
          "base_uri": "https://localhost:8080/"
        },
        "id": "2Bt6E021UQMA",
        "outputId": "63d65031-7a46-4bb3-e0fc-53bc90000882"
      },
      "execution_count": null,
      "outputs": [
        {
          "output_type": "stream",
          "name": "stdout",
          "text": [
            "['Apple', 1.46]\n"
          ]
        }
      ]
    },
    {
      "cell_type": "code",
      "source": [
        "store_items[2] = 'Chocolate'\n",
        "print(store_items)"
      ],
      "metadata": {
        "colab": {
          "base_uri": "https://localhost:8080/"
        },
        "id": "R8u_aXb1UVmY",
        "outputId": "c2d71146-b3fc-4a8c-daed-14711e28f8d2"
      },
      "execution_count": null,
      "outputs": [
        {
          "output_type": "stream",
          "name": "stdout",
          "text": [
            "['Apple', 1.46, 'Chocolate', 1, 'Milk', 2.99, 'Cheese', 4.49]\n"
          ]
        }
      ]
    },
    {
      "cell_type": "code",
      "source": [
        "age = 21\n",
        "age += 0.5\n",
        "print(age, type(age))"
      ],
      "metadata": {
        "colab": {
          "base_uri": "https://localhost:8080/"
        },
        "id": "yX-JYMUqZ3-f",
        "outputId": "69fa86c7-c94d-4008-98e3-27391d61be5b"
      },
      "execution_count": null,
      "outputs": [
        {
          "output_type": "stream",
          "name": "stdout",
          "text": [
            "21.5 <class 'float'>\n"
          ]
        }
      ]
    },
    {
      "cell_type": "code",
      "source": [
        "age = '21'\n",
        "type(age)"
      ],
      "metadata": {
        "colab": {
          "base_uri": "https://localhost:8080/"
        },
        "id": "t6vGgiSlZ-M3",
        "outputId": "288a38fc-b935-45ee-fd36-08ddd76451c3"
      },
      "execution_count": null,
      "outputs": [
        {
          "output_type": "execute_result",
          "data": {
            "text/plain": [
              "str"
            ]
          },
          "metadata": {},
          "execution_count": 33
        }
      ]
    },
    {
      "cell_type": "code",
      "source": [
        "age = int(age)\n",
        "print(age, type(age))"
      ],
      "metadata": {
        "colab": {
          "base_uri": "https://localhost:8080/"
        },
        "id": "LeuqiFjbaCCv",
        "outputId": "ddede7fe-0022-4937-c8c2-e1348fd915ac"
      },
      "execution_count": null,
      "outputs": [
        {
          "output_type": "stream",
          "name": "stdout",
          "text": [
            "21 <class 'int'>\n"
          ]
        }
      ]
    },
    {
      "cell_type": "code",
      "source": [
        "print(\"Hi, this is Python\")"
      ],
      "metadata": {
        "colab": {
          "base_uri": "https://localhost:8080/"
        },
        "id": "XPYXLCqE8sok",
        "outputId": "0ab326fd-6a08-4113-e975-dd221886988f"
      },
      "execution_count": null,
      "outputs": [
        {
          "output_type": "stream",
          "name": "stdout",
          "text": [
            "Hi, this is Python\n"
          ]
        }
      ]
    },
    {
      "cell_type": "code",
      "source": [
        "name = \"Zeynep\"\n",
        "print(name)"
      ],
      "metadata": {
        "colab": {
          "base_uri": "https://localhost:8080/"
        },
        "id": "-jWLtPyD82It",
        "outputId": "8eae7f4a-0335-4cbb-c713-69f42feb093c"
      },
      "execution_count": null,
      "outputs": [
        {
          "output_type": "stream",
          "name": "stdout",
          "text": [
            "Zeynep\n"
          ]
        }
      ]
    },
    {
      "cell_type": "code",
      "source": [
        "name = \"Zeynep\"\n",
        "print(\"Hello\", name)"
      ],
      "metadata": {
        "colab": {
          "base_uri": "https://localhost:8080/"
        },
        "id": "NPFaTToc86M1",
        "outputId": "ecb89654-ba3f-4d37-cff2-cf8403db7261"
      },
      "execution_count": null,
      "outputs": [
        {
          "output_type": "stream",
          "name": "stdout",
          "text": [
            "Hello Zeynep\n"
          ]
        }
      ]
    },
    {
      "cell_type": "code",
      "source": [
        "print(15)"
      ],
      "metadata": {
        "colab": {
          "base_uri": "https://localhost:8080/"
        },
        "id": "gYp_z2nj9AiU",
        "outputId": "69e28473-2563-4273-b959-fab5e44e512e"
      },
      "execution_count": null,
      "outputs": [
        {
          "output_type": "stream",
          "name": "stdout",
          "text": [
            "15\n"
          ]
        }
      ]
    },
    {
      "cell_type": "code",
      "source": [
        "name = input('Name:')\n",
        "print('Greetings', name)"
      ],
      "metadata": {
        "colab": {
          "base_uri": "https://localhost:8080/"
        },
        "id": "C8Ksb5489C2N",
        "outputId": "989b570a-f8e3-4a79-8516-3b5290fae81c"
      },
      "execution_count": null,
      "outputs": [
        {
          "output_type": "stream",
          "name": "stdout",
          "text": [
            "Name:Zeynep\n",
            "Greetings Zeynep\n"
          ]
        }
      ]
    },
    {
      "cell_type": "code",
      "source": [
        "#Bu kod çalışmıyor çünkü number'ın int olduğunu belirlemedik.\n",
        "number = input('Number:')\n",
        "print(number + 10)"
      ],
      "metadata": {
        "colab": {
          "base_uri": "https://localhost:8080/",
          "height": 176
        },
        "id": "7taoQ_L29MD1",
        "outputId": "8ec755f5-d878-43fb-994d-0d6e8da1522e"
      },
      "execution_count": null,
      "outputs": [
        {
          "name": "stdout",
          "output_type": "stream",
          "text": [
            "Number:5\n"
          ]
        },
        {
          "output_type": "error",
          "ename": "TypeError",
          "evalue": "can only concatenate str (not \"int\") to str",
          "traceback": [
            "\u001b[0;31m---------------------------------------------------------------------------\u001b[0m",
            "\u001b[0;31mTypeError\u001b[0m                                 Traceback (most recent call last)",
            "\u001b[0;32m<ipython-input-8-3454d1c425f9>\u001b[0m in \u001b[0;36m<cell line: 2>\u001b[0;34m()\u001b[0m\n\u001b[1;32m      1\u001b[0m \u001b[0mnumber\u001b[0m \u001b[0;34m=\u001b[0m \u001b[0minput\u001b[0m\u001b[0;34m(\u001b[0m\u001b[0;34m'Number:'\u001b[0m\u001b[0;34m)\u001b[0m\u001b[0;34m\u001b[0m\u001b[0;34m\u001b[0m\u001b[0m\n\u001b[0;32m----> 2\u001b[0;31m \u001b[0mprint\u001b[0m\u001b[0;34m(\u001b[0m\u001b[0mnumber\u001b[0m \u001b[0;34m+\u001b[0m \u001b[0;36m10\u001b[0m\u001b[0;34m)\u001b[0m\u001b[0;34m\u001b[0m\u001b[0;34m\u001b[0m\u001b[0m\n\u001b[0m",
            "\u001b[0;31mTypeError\u001b[0m: can only concatenate str (not \"int\") to str"
          ]
        }
      ]
    },
    {
      "cell_type": "code",
      "source": [
        "number = int(input('Number:'))\n",
        "print(number + 10)"
      ],
      "metadata": {
        "colab": {
          "base_uri": "https://localhost:8080/"
        },
        "id": "xtt-7VWN9ioc",
        "outputId": "650d8cd8-c906-4ea6-9d5f-557da4d8da50"
      },
      "execution_count": null,
      "outputs": [
        {
          "output_type": "stream",
          "name": "stdout",
          "text": [
            "Number:5\n",
            "15\n"
          ]
        }
      ]
    },
    {
      "cell_type": "code",
      "source": [
        "import math"
      ],
      "metadata": {
        "id": "JNw7MTK--G9p"
      },
      "execution_count": null,
      "outputs": []
    },
    {
      "cell_type": "code",
      "source": [
        "floor_number = (math.floor(3.45))\n",
        "print(floor_number, type(floor_number))"
      ],
      "metadata": {
        "colab": {
          "base_uri": "https://localhost:8080/"
        },
        "id": "FbkbTTz2-I1w",
        "outputId": "9ad78db3-bfba-433e-c512-2142c08f36ae"
      },
      "execution_count": null,
      "outputs": [
        {
          "output_type": "stream",
          "name": "stdout",
          "text": [
            "3 <class 'int'>\n"
          ]
        }
      ]
    },
    {
      "cell_type": "code",
      "source": [
        "import datetime\n",
        "print(datetime.datetime.now())"
      ],
      "metadata": {
        "colab": {
          "base_uri": "https://localhost:8080/"
        },
        "id": "ZJb2Qirc-R2g",
        "outputId": "be3964bf-c969-43f6-818c-c1757facdc96"
      },
      "execution_count": null,
      "outputs": [
        {
          "output_type": "stream",
          "name": "stdout",
          "text": [
            "2024-08-07 13:13:54.480290\n"
          ]
        }
      ]
    },
    {
      "cell_type": "code",
      "source": [
        "import random\n",
        "print(random.randint(1,6))"
      ],
      "metadata": {
        "colab": {
          "base_uri": "https://localhost:8080/"
        },
        "id": "hOMHk71i-czh",
        "outputId": "a9bc3d5f-6bc8-4ab1-c2df-9744fae18415"
      },
      "execution_count": null,
      "outputs": [
        {
          "output_type": "stream",
          "name": "stdout",
          "text": [
            "4\n"
          ]
        }
      ]
    },
    {
      "cell_type": "markdown",
      "source": [
        "## Python Syntax"
      ],
      "metadata": {
        "id": "w4ftr-X6a4RZ"
      }
    },
    {
      "cell_type": "code",
      "source": [
        "print(2+5)"
      ],
      "metadata": {
        "colab": {
          "base_uri": "https://localhost:8080/"
        },
        "id": "yI1o525F_Jq5",
        "outputId": "b9ae6a38-938d-4f8a-da45-4c2e8c7cb324"
      },
      "execution_count": null,
      "outputs": [
        {
          "output_type": "stream",
          "name": "stdout",
          "text": [
            "7\n"
          ]
        }
      ]
    },
    {
      "cell_type": "code",
      "source": [
        "print(\"5+2=\",5+2)\n",
        "print(\"5-2=\",5-2)\n",
        "print(\"5*2=\",5*2)\n",
        "print(\"5/2=\",5/2)\n",
        "print(\"5%2=\",5%2)\n",
        "print(\"5**2=\",5**2)\n",
        "print(\"5//2=\",5//2)"
      ],
      "metadata": {
        "colab": {
          "base_uri": "https://localhost:8080/"
        },
        "id": "bD0OV8t3_OpW",
        "outputId": "22583054-30de-4bcf-8fd1-93a7900d85ba"
      },
      "execution_count": null,
      "outputs": [
        {
          "output_type": "stream",
          "name": "stdout",
          "text": [
            "5+2= 7\n",
            "5-2= 3\n",
            "5*2= 10\n",
            "5/2= 2.5\n",
            "5%2= 1\n",
            "5**2= 25\n",
            "5//2= 2\n"
          ]
        }
      ]
    },
    {
      "cell_type": "code",
      "source": [
        "x = 5 #equivalent to x = 5\n",
        "x += 5 #equivalent to x = x+5\n",
        "x-= 5 #equivalent to x = x-5\n",
        "x *= 5 #equivalent to x = x*5\n",
        "x /= 5 #equivalent to x = x/5\n",
        "x %= 5 #equivalent to x = x%5\n",
        "x //= 5 #equivalent to x = x//5\n",
        "x **= 5 #equivalent to x = x**"
      ],
      "metadata": {
        "id": "RHvXJwrq_Zn-"
      },
      "execution_count": null,
      "outputs": []
    },
    {
      "cell_type": "code",
      "source": [
        "num1 = 10\n",
        "num2 = 5\n",
        "\n",
        "print(num1, \">\", num2, \"=\", num1 > num2)\n",
        "print(num1, \">=\", num2, \"=\", num1 >= num2)\n",
        "print(num1, \"<\", num2, \"=\", num1 < num2)\n",
        "print(num1, \"<=\", num2, \"=\", num1 <= num2)\n",
        "print(num1, \"==\", num2, \"=\", num1 == num2)\n",
        "print(num1, \"!=\", num2, \"=\", num1 != num2)"
      ],
      "metadata": {
        "colab": {
          "base_uri": "https://localhost:8080/"
        },
        "id": "uyWQr44T_s91",
        "outputId": "ff7a39c3-5e31-4181-9152-57009e13a44d"
      },
      "execution_count": null,
      "outputs": [
        {
          "output_type": "stream",
          "name": "stdout",
          "text": [
            "10 > 5 = True\n",
            "10 >= 5 = True\n",
            "10 < 5 = False\n",
            "10 <= 5 = False\n",
            "10 == 5 = False\n",
            "10 != 5 = True\n"
          ]
        }
      ]
    },
    {
      "cell_type": "code",
      "source": [
        "print(\"True and True =\", True and True)         # 1 ^ 1 = 1\n",
        "print(\"True and False =\", True and False)       # 1 ^ 0 = 0\n",
        "print(\"False and True =\", False and True)       # 0 ^ 1 = 0\n",
        "print(\"False and False =\", False and False)     # 0 ^ 0 = 0"
      ],
      "metadata": {
        "colab": {
          "base_uri": "https://localhost:8080/"
        },
        "id": "bK3HhECS_04V",
        "outputId": "bdb7379a-a035-49b3-d3f3-ed1f3882bb50"
      },
      "execution_count": null,
      "outputs": [
        {
          "output_type": "stream",
          "name": "stdout",
          "text": [
            "True and True = True\n",
            "True and False = False\n",
            "False and True = False\n",
            "False and False = False\n"
          ]
        }
      ]
    },
    {
      "cell_type": "code",
      "source": [
        "print(\"True or True =\", True or True)           # 1 v 1 = 1\n",
        "print(\"True or False =\", True or False)         # 1 v 0 = 1\n",
        "print(\"False or True =\", False or True)         # 0 v 1 = 1\n",
        "print(\"False or False =\", False or False)       # 0 v 0 = 0"
      ],
      "metadata": {
        "colab": {
          "base_uri": "https://localhost:8080/"
        },
        "id": "GyzgyW02_92U",
        "outputId": "9ce099e2-1156-4534-9e51-66f40f050681"
      },
      "execution_count": null,
      "outputs": [
        {
          "output_type": "stream",
          "name": "stdout",
          "text": [
            "True or True = True\n",
            "True or False = True\n",
            "False or True = True\n",
            "False or False = False\n"
          ]
        }
      ]
    },
    {
      "cell_type": "code",
      "source": [
        "print(\"not True =\", not True)                   # not 1 = 0\n",
        "print(\"not False =\", not False)                 # not 0 = 1"
      ],
      "metadata": {
        "colab": {
          "base_uri": "https://localhost:8080/"
        },
        "id": "uuW7zM8nA-xg",
        "outputId": "9cd2f767-882c-44ab-c2fb-c89a0dffbda6"
      },
      "execution_count": null,
      "outputs": [
        {
          "output_type": "stream",
          "name": "stdout",
          "text": [
            "not True = False\n",
            "not False = True\n"
          ]
        }
      ]
    },
    {
      "cell_type": "markdown",
      "source": [
        "### Practical Exercise 1:Plan an exciting adventure with a new friend"
      ],
      "metadata": {
        "id": "XPbG9bhqbNNy"
      }
    },
    {
      "cell_type": "code",
      "source": [
        "message = \"Hello, my name is Ömer! Nice to meet you. What is yours?\"\n",
        "print(message)"
      ],
      "metadata": {
        "colab": {
          "base_uri": "https://localhost:8080/"
        },
        "id": "QsJAwNVCLQSZ",
        "outputId": "00406cfa-bd6c-46b9-dda6-26cd181838e4"
      },
      "execution_count": null,
      "outputs": [
        {
          "output_type": "stream",
          "name": "stdout",
          "text": [
            "Hello, my name is Ömer! Nice to meet you. What is yours?\n"
          ]
        }
      ]
    },
    {
      "cell_type": "code",
      "source": [
        "answer = \"Hi, my name is Zeynep! Nice to meet you too.\"\n",
        "print(answer)"
      ],
      "metadata": {
        "colab": {
          "base_uri": "https://localhost:8080/"
        },
        "id": "5N37BtU0LcqI",
        "outputId": "13195697-cd73-44b0-add5-797f6a820082"
      },
      "execution_count": null,
      "outputs": [
        {
          "output_type": "stream",
          "name": "stdout",
          "text": [
            "Hi, my name is Zeynep! Nice to meet you too.\n"
          ]
        }
      ]
    },
    {
      "cell_type": "code",
      "source": [
        "his_age = 20\n",
        "his_height = 1.76\n",
        "his_hair_color = \"black\"\n",
        "his_eye_color = \"brown\"\n",
        "his_hometown = \"Turkey\"\n",
        "where_he_lives = \"Kocaeli\"\n",
        "\n",
        "print(\"He is\", str(his_age), \"years old.\")\n",
        "print(\"He is\", str(his_height), \"meters tall.\")\n",
        "print(\"He has\", his_hair_color, \"hair.\")\n",
        "print(\"He has\", his_eye_color, \"eyes.\")\n",
        "print(\"He is from\", his_hometown, \".\")\n",
        "print(\"He lives in\", where_he_lives)\n",
        "\n",
        "print(\"What about you? Tell me about yourself.\")"
      ],
      "metadata": {
        "colab": {
          "base_uri": "https://localhost:8080/"
        },
        "id": "heI5ZN9GLtLk",
        "outputId": "4844ccd9-8d0c-47ab-cfdf-20ad66efb597"
      },
      "execution_count": null,
      "outputs": [
        {
          "output_type": "stream",
          "name": "stdout",
          "text": [
            "He is 20 years old.\n",
            "He is 1.76 meters tall.\n",
            "He has black hair.\n",
            "He has brown eyes.\n",
            "He is from Turkey .\n",
            "He lives in Kocaeli\n",
            "What about you? Tell me about yourself.\n"
          ]
        }
      ]
    },
    {
      "cell_type": "code",
      "source": [
        "my_age = 20\n",
        "my_height = 1.55\n",
        "my_hair_color = \"red\"\n",
        "my_eye_color = \"brown\"\n",
        "my_hometown = \"Turkey\"\n",
        "where_i_live = \"İstanbul\"\n",
        "\n",
        "print(\"I am\", str(my_age), \"years old.\")\n",
        "print(\"I am\", str(my_height), \"meters tall.\")\n",
        "print(\"I have\", my_hair_color, \"hair.\")\n",
        "print(\"I have\", my_eye_color, \"eyes.\")\n",
        "print(\"I am from\", my_hometown, \".\")\n",
        "print(\"I live in\", where_i_live)"
      ],
      "metadata": {
        "colab": {
          "base_uri": "https://localhost:8080/"
        },
        "id": "e9AI1Z3aMtMd",
        "outputId": "e7bf550c-bead-44e6-9140-52c9945dc8ff"
      },
      "execution_count": null,
      "outputs": [
        {
          "output_type": "stream",
          "name": "stdout",
          "text": [
            "I am 20 years old.\n",
            "I am 1.55 meters tall.\n",
            "I have red hair.\n",
            "I have brown eyes.\n",
            "I am from Turkey .\n",
            "I live in İstanbul\n"
          ]
        }
      ]
    },
    {
      "cell_type": "code",
      "source": [
        "favourite_places_foods = [\"Paris\", \"Milan\", \"Barcelona\", \"Berlin\", \"Vegas\", \"Croissant\", \"Pasta\", \"Pizza\"]\n",
        "print(favourite_places_foods)"
      ],
      "metadata": {
        "colab": {
          "base_uri": "https://localhost:8080/"
        },
        "id": "ptAO_aDGNHSM",
        "outputId": "2516b471-fbe1-4466-c56e-db5ba4bbb8be"
      },
      "execution_count": null,
      "outputs": [
        {
          "output_type": "stream",
          "name": "stdout",
          "text": [
            "['Paris', 'Milan', 'Barcelona', 'Berlin', 'Vegas', 'Croissant', 'Pasta', 'Pizza']\n"
          ]
        }
      ]
    },
    {
      "cell_type": "code",
      "source": [
        "favourite_places = favourite_places_foods[0:5] #select all the places (Another option [:5])\n",
        "favourite_food = favourite_places_foods[5:10] #select all the foods (Another option [5:])\n",
        "\n",
        "#Select the first and last three from place and food lists\n",
        "first_three_places=favourite_places[0:3]\n",
        "last_three_foods =favourite_food[2:5]\n",
        "\n",
        "#Print both lists\n",
        "print(first_three_places)\n",
        "print(last_three_foods)"
      ],
      "metadata": {
        "colab": {
          "base_uri": "https://localhost:8080/"
        },
        "id": "d3UnN9fINeh5",
        "outputId": "6e1ac65d-91d7-4ddb-fee2-72c70567237c"
      },
      "execution_count": null,
      "outputs": [
        {
          "output_type": "stream",
          "name": "stdout",
          "text": [
            "['Paris', 'Milan', 'Barcelona']\n",
            "['Pizza']\n"
          ]
        }
      ]
    },
    {
      "cell_type": "code",
      "source": [
        "import random\n",
        "a = random.randint(0,2)\n",
        "b = random.randint(0,10)\n",
        "\n",
        "meeting_place = first_three_places[a]\n",
        "meeting_food = last_three_foods[b]\n",
        "print(meeting_place)\n",
        "print(meeting_food)"
      ],
      "metadata": {
        "colab": {
          "base_uri": "https://localhost:8080/"
        },
        "id": "_qLAzJ5-Njto",
        "outputId": "7637918c-d511-47d6-d21e-33d114397cd0"
      },
      "execution_count": null,
      "outputs": [
        {
          "output_type": "stream",
          "name": "stdout",
          "text": [
            "Barcelona\n",
            "Pizza\n"
          ]
        }
      ]
    },
    {
      "cell_type": "code",
      "source": [
        "first_activity = \"lets play chess in the park\"\n",
        "second_activity = \"lets play a game at the internet cafe\"\n",
        "third_activity = \"lets go to the museum in Konuralp\"\n",
        "\n",
        "#Write your and Ömer's preference for each activity either as \"True\" or \"False\"\n",
        "\n",
        "#First activity\n",
        "first_activity_your = True\n",
        "first_activity_friend = False\n",
        "\n",
        "#Example statement\n",
        "print(\"We are going to play chess in the park! Answer:\" ,first_activity_your and first_activity_friend)\n",
        "\n",
        "#Second activity\n",
        "second_activity_your = True\n",
        "second_activity_friend = True\n",
        "\n",
        "#Your turn to write the statement\n",
        "print(\"We are going to play a game of tennis. Answer:\" ,second_activity_your and second_activity_friend)\n",
        "\n",
        "#Third activity\n",
        "second_activity_your = False\n",
        "second_activity_friend = False\n",
        "\n",
        "print(\"At least one of us is going to the museum. Answer:\" ,second_activity_your or second_activity_friend)"
      ],
      "metadata": {
        "colab": {
          "base_uri": "https://localhost:8080/"
        },
        "id": "yYJNPwvIN-Yx",
        "outputId": "e2682573-2f30-4df9-b451-988e495d3c74"
      },
      "execution_count": null,
      "outputs": [
        {
          "output_type": "stream",
          "name": "stdout",
          "text": [
            "We are going to play chess in the park! Answer: False\n",
            "We are going to play a game of tennis. Answer: True\n",
            "At least one of us is going to the museum. Answer: False\n"
          ]
        }
      ]
    },
    {
      "cell_type": "code",
      "source": [
        "meeting_date = input('In which month do you want to do on our fun adventure?: ')\n",
        "meeting_food = input('What do you want to eat?: ')\n",
        "meeting_place = input('Where do you want to go?: ')\n",
        "print(\"We are going to\", meeting_place, \"and we will eat\", meeting_food, \"in\", meeting_date)"
      ],
      "metadata": {
        "colab": {
          "base_uri": "https://localhost:8080/"
        },
        "id": "HHdDnAMcOsr9",
        "outputId": "71cc1350-50b3-4869-d502-a99a7edb2a74"
      },
      "execution_count": null,
      "outputs": [
        {
          "output_type": "stream",
          "name": "stdout",
          "text": [
            "In which month do you want to do on our fun adventure?: December\n",
            "What do you want to eat?: Waffle\n",
            "Where do you want to go?: Waffle Kitchen\n",
            "We are going to Waffle Kitchen and we will eat Waffle in December\n"
          ]
        }
      ]
    },
    {
      "cell_type": "markdown",
      "source": [
        "## Flow Controls"
      ],
      "metadata": {
        "id": "Uwe1NQmBbd5B"
      }
    },
    {
      "cell_type": "code",
      "source": [
        "celcius = 25\n",
        "if celcius > 20:\n",
        "  print('Good')"
      ],
      "metadata": {
        "colab": {
          "base_uri": "https://localhost:8080/"
        },
        "id": "yvnYUo8DtrH8",
        "outputId": "8f79e3ce-1d90-4984-f33b-5307bb658d22"
      },
      "execution_count": null,
      "outputs": [
        {
          "output_type": "stream",
          "name": "stdout",
          "text": [
            "Good\n"
          ]
        }
      ]
    },
    {
      "cell_type": "code",
      "source": [
        "celcius = 18\n",
        "if celcius > 20:\n",
        "  print('Good')"
      ],
      "metadata": {
        "id": "5Cf5499zt4Zk"
      },
      "execution_count": null,
      "outputs": []
    },
    {
      "cell_type": "code",
      "source": [
        "celcius = 18\n",
        "if celcius > 20:\n",
        "  print('Good')\n",
        "else:\n",
        "  print('Cold')"
      ],
      "metadata": {
        "colab": {
          "base_uri": "https://localhost:8080/"
        },
        "id": "lKBvK4I0t_gc",
        "outputId": "d26d165d-5f25-4b55-e811-daa74deac00a"
      },
      "execution_count": null,
      "outputs": [
        {
          "output_type": "stream",
          "name": "stdout",
          "text": [
            "Cold\n"
          ]
        }
      ]
    },
    {
      "cell_type": "code",
      "source": [
        "celcius = 32\n",
        "if celcius > 30:\n",
        "  print('Hot')\n",
        "  if celcius > 20:\n",
        "    print('Good')\n",
        "  else:\n",
        "    print('Cold')"
      ],
      "metadata": {
        "colab": {
          "base_uri": "https://localhost:8080/"
        },
        "id": "aFCSNF91uDgk",
        "outputId": "d77c2744-f9eb-4db9-f61e-b741d7b4b05a"
      },
      "execution_count": null,
      "outputs": [
        {
          "output_type": "stream",
          "name": "stdout",
          "text": [
            "Hot\n",
            "Good\n"
          ]
        }
      ]
    },
    {
      "cell_type": "code",
      "source": [
        "celcius = 32\n",
        "if celcius > 30:\n",
        "  print('Hot')\n",
        "elif celcius > 20:\n",
        "  print('Good')\n",
        "else:\n",
        "  print('Cold')"
      ],
      "metadata": {
        "colab": {
          "base_uri": "https://localhost:8080/"
        },
        "id": "hCuA2l5TuS_2",
        "outputId": "5962067f-91b0-47fc-b348-c6ef7e8ee3e5"
      },
      "execution_count": null,
      "outputs": [
        {
          "output_type": "stream",
          "name": "stdout",
          "text": [
            "Hot\n"
          ]
        }
      ]
    },
    {
      "cell_type": "code",
      "source": [
        "celcius = 32\n",
        "if celcius > 30:\n",
        "  print('Hot')\n",
        "elif 30 >= celcius > 20:\n",
        "  print('Good')\n",
        "elif -273 < celcius <= 20:\n",
        "  print('Cold')\n",
        "else:\n",
        "  print('Something went wrong!')"
      ],
      "metadata": {
        "colab": {
          "base_uri": "https://localhost:8080/"
        },
        "id": "620kXjGzucNV",
        "outputId": "5165bb79-68e2-40d6-aa64-a77a3acd607e"
      },
      "execution_count": null,
      "outputs": [
        {
          "output_type": "stream",
          "name": "stdout",
          "text": [
            "Hot\n"
          ]
        }
      ]
    },
    {
      "cell_type": "code",
      "source": [
        "drivers_licence = True\n",
        "age = 17\n",
        "\n",
        "if age > 17:\n",
        "  if drivers_licence:\n",
        "    print('You can drive car')\n",
        "  else:\n",
        "    print('You need to go to a drivers licence course')\n",
        "else:\n",
        "  print('You need to get older')"
      ],
      "metadata": {
        "colab": {
          "base_uri": "https://localhost:8080/"
        },
        "id": "nz9q6u5PvOYR",
        "outputId": "afd1d7f4-b728-4209-a71f-9e8805018822"
      },
      "execution_count": null,
      "outputs": [
        {
          "output_type": "stream",
          "name": "stdout",
          "text": [
            "You need to get older\n"
          ]
        }
      ]
    },
    {
      "cell_type": "code",
      "source": [
        "print('E')\n",
        "print('l')\n",
        "print('e')\n",
        "print('m')\n",
        "print('e')\n",
        "print('n')\n",
        "print('t')\n",
        "print('e')\n",
        "print('r')"
      ],
      "metadata": {
        "colab": {
          "base_uri": "https://localhost:8080/"
        },
        "id": "64DdpYdwvz8Z",
        "outputId": "28b18f71-5b99-4a37-82da-1720d6c2c11c"
      },
      "execution_count": null,
      "outputs": [
        {
          "output_type": "stream",
          "name": "stdout",
          "text": [
            "E\n",
            "l\n",
            "e\n",
            "m\n",
            "e\n",
            "n\n",
            "t\n",
            "e\n",
            "r\n"
          ]
        }
      ]
    },
    {
      "cell_type": "code",
      "source": [
        "name = 'Elementer'\n",
        "for i in name:\n",
        "  print(i)\n",
        "print('Loop is completed.')"
      ],
      "metadata": {
        "colab": {
          "base_uri": "https://localhost:8080/"
        },
        "id": "kgRHKEVnwDoi",
        "outputId": "65d1298a-666d-40d2-fc73-7df52e617f4c"
      },
      "execution_count": null,
      "outputs": [
        {
          "output_type": "stream",
          "name": "stdout",
          "text": [
            "E\n",
            "l\n",
            "e\n",
            "m\n",
            "e\n",
            "n\n",
            "t\n",
            "e\n",
            "r\n",
            "Loop is completed.\n"
          ]
        }
      ]
    },
    {
      "cell_type": "code",
      "source": [
        "numbers = [1, 2, 3, 4, 5, 6, 7, 8, 9, 10]\n",
        "for i in numbers:\n",
        "  print(i)\n",
        "\n",
        "print('Loop is completed.')"
      ],
      "metadata": {
        "colab": {
          "base_uri": "https://localhost:8080/"
        },
        "id": "2Y9HNAK5wQP9",
        "outputId": "80489dc6-95d0-4aab-a2a5-3b602cf800e9"
      },
      "execution_count": null,
      "outputs": [
        {
          "output_type": "stream",
          "name": "stdout",
          "text": [
            "1\n",
            "2\n",
            "3\n",
            "4\n",
            "5\n",
            "6\n",
            "7\n",
            "8\n",
            "9\n",
            "10\n",
            "Loop is completed.\n"
          ]
        }
      ]
    },
    {
      "cell_type": "code",
      "source": [
        "for i in range(5,21):\n",
        "  print(i)\n",
        "print('Loop is completed.')"
      ],
      "metadata": {
        "colab": {
          "base_uri": "https://localhost:8080/"
        },
        "id": "cuun99Ybwbw9",
        "outputId": "f1dc3a64-376e-4382-f4d0-7ceb3ce36686"
      },
      "execution_count": null,
      "outputs": [
        {
          "output_type": "stream",
          "name": "stdout",
          "text": [
            "5\n",
            "6\n",
            "7\n",
            "8\n",
            "9\n",
            "10\n",
            "11\n",
            "12\n",
            "13\n",
            "14\n",
            "15\n",
            "16\n",
            "17\n",
            "18\n",
            "19\n",
            "20\n",
            "Loop is completed.\n"
          ]
        }
      ]
    },
    {
      "cell_type": "code",
      "source": [
        "for i in range(1,101):\n",
        "  if i % 5 == 0:\n",
        "    print(i)\n",
        "print('Loop has been completed')"
      ],
      "metadata": {
        "colab": {
          "base_uri": "https://localhost:8080/"
        },
        "id": "oNeWq7JI11m4",
        "outputId": "01ad92de-b77a-40df-c2c5-6f6309d762ec"
      },
      "execution_count": null,
      "outputs": [
        {
          "output_type": "stream",
          "name": "stdout",
          "text": [
            "5\n",
            "10\n",
            "15\n",
            "20\n",
            "25\n",
            "30\n",
            "35\n",
            "40\n",
            "45\n",
            "50\n",
            "55\n",
            "60\n",
            "65\n",
            "70\n",
            "75\n",
            "80\n",
            "85\n",
            "90\n",
            "95\n",
            "100\n",
            "Loop has been completed\n"
          ]
        }
      ]
    },
    {
      "cell_type": "code",
      "source": [
        "celcius = 10\n",
        "if celcius > 30:\n",
        "  print('Hot')\n",
        "elif 30 >= celcius > 20:\n",
        "  print('Good')\n",
        "elif -273 < celcius <= 20:\n",
        "  print('Cold')\n",
        "else:\n",
        "  print('Something went wrong!')"
      ],
      "metadata": {
        "colab": {
          "base_uri": "https://localhost:8080/"
        },
        "id": "rXx7u4fI7CEp",
        "outputId": "db30d013-5185-4eaa-c01c-94e407443306"
      },
      "execution_count": null,
      "outputs": [
        {
          "output_type": "stream",
          "name": "stdout",
          "text": [
            "Cold\n"
          ]
        }
      ]
    },
    {
      "cell_type": "code",
      "source": [
        "celcius = 10\n",
        "\n",
        "while celcius < 50:\n",
        "  if celcius > 30:\n",
        "    print('Hot')\n",
        "  elif 30 >= celcius >20:\n",
        "    print('Good')\n",
        "  elif -273 < celcius <= 20:\n",
        "    print('Cold')\n",
        "  else:\n",
        "    print('Something went wrong!')"
      ],
      "metadata": {
        "id": "fl6VNKLA7yAg"
      },
      "execution_count": null,
      "outputs": []
    },
    {
      "cell_type": "code",
      "source": [
        "celcius = 10\n",
        "\n",
        "while celcius < 50:\n",
        "\n",
        "  if celcius > 30:\n",
        "    print('Hot')\n",
        "  elif 30 >= celcius > 20:\n",
        "    print('Good')\n",
        "  elif -273 < celcius <= 20:\n",
        "    print('Cold')\n",
        "  else:\n",
        "    print('Something went wrong!')\n",
        "  celcius += 5"
      ],
      "metadata": {
        "colab": {
          "base_uri": "https://localhost:8080/"
        },
        "id": "f5Ug3R0O8E56",
        "outputId": "b6345cfe-1bbd-4833-c021-21b054dc0152"
      },
      "execution_count": null,
      "outputs": [
        {
          "output_type": "stream",
          "name": "stdout",
          "text": [
            "Cold\n",
            "Cold\n",
            "Cold\n",
            "Good\n",
            "Good\n",
            "Hot\n",
            "Hot\n",
            "Hot\n"
          ]
        }
      ]
    },
    {
      "cell_type": "code",
      "source": [
        "celcius = 10\n",
        "\n",
        "while celcius < 50:\n",
        "\n",
        "  if celcius > 30:\n",
        "    print('Hot')\n",
        "  elif 30 >= celcius > 20:\n",
        "    print('Good')\n",
        "  elif -273 < celcius <= 20:\n",
        "    print('Cold')\n",
        "  else:\n",
        "    print('Something went wrong!')\n",
        "  print('The current temperature is',celcius)\n",
        "  celcius += 5"
      ],
      "metadata": {
        "colab": {
          "base_uri": "https://localhost:8080/"
        },
        "id": "MRbbtioo8G7d",
        "outputId": "5d595696-55ff-4507-dece-a92393d95a1a"
      },
      "execution_count": null,
      "outputs": [
        {
          "output_type": "stream",
          "name": "stdout",
          "text": [
            "Cold\n",
            "The current temperature is 10\n",
            "Cold\n",
            "The current temperature is 15\n",
            "Cold\n",
            "The current temperature is 20\n",
            "Good\n",
            "The current temperature is 25\n",
            "Good\n",
            "The current temperature is 30\n",
            "Hot\n",
            "The current temperature is 35\n",
            "Hot\n",
            "The current temperature is 40\n",
            "Hot\n",
            "The current temperature is 45\n"
          ]
        }
      ]
    },
    {
      "cell_type": "code",
      "source": [
        "import time\n",
        "celcius = 10\n",
        "\n",
        "while celcius < 50:\n",
        "\n",
        "  if celcius > 30:\n",
        "    print('Hot')\n",
        "  elif 30 >= celcius > 20:\n",
        "    print('Good')\n",
        "  elif -273 < celcius <= 20:\n",
        "    print('Cold')\n",
        "  else:\n",
        "    print('Something went wrong!')\n",
        "  print('The current temperature is',celcius)\n",
        "  celcius += 5\n",
        "  time.sleep(1)"
      ],
      "metadata": {
        "colab": {
          "base_uri": "https://localhost:8080/"
        },
        "id": "g6ruemwL8JoJ",
        "outputId": "d7c7c970-25e3-4077-e3b0-19180c0b5763"
      },
      "execution_count": null,
      "outputs": [
        {
          "output_type": "stream",
          "name": "stdout",
          "text": [
            "Cold\n",
            "The current temperature is 10\n",
            "Cold\n",
            "The current temperature is 15\n",
            "Cold\n",
            "The current temperature is 20\n",
            "Good\n",
            "The current temperature is 25\n",
            "Good\n",
            "The current temperature is 30\n",
            "Hot\n",
            "The current temperature is 35\n",
            "Hot\n",
            "The current temperature is 40\n",
            "Hot\n",
            "The current temperature is 45\n"
          ]
        }
      ]
    },
    {
      "cell_type": "code",
      "source": [
        "#Sonsuz döngü\n",
        "while True:\n",
        "  print('I love you!')"
      ],
      "metadata": {
        "id": "TL4D_AfbCgwl"
      },
      "execution_count": null,
      "outputs": []
    },
    {
      "cell_type": "code",
      "source": [
        "import time\n",
        "counter = 0\n",
        "\n",
        "while counter >= 0:\n",
        "  counter += 1\n",
        "\n",
        "  print(counter)\n",
        "  time.sleep(1)"
      ],
      "metadata": {
        "colab": {
          "base_uri": "https://localhost:8080/",
          "height": 352
        },
        "id": "zskYuF1v8Z5P",
        "outputId": "9bbb2d69-c4c8-41a7-f704-99aa9ea2523c"
      },
      "execution_count": null,
      "outputs": [
        {
          "output_type": "stream",
          "name": "stdout",
          "text": [
            "2\n",
            "3\n",
            "4\n",
            "5\n",
            "6\n",
            "7\n",
            "8\n",
            "9\n"
          ]
        },
        {
          "output_type": "error",
          "ename": "KeyboardInterrupt",
          "evalue": "ignored",
          "traceback": [
            "\u001b[0;31m---------------------------------------------------------------------------\u001b[0m",
            "\u001b[0;31mKeyboardInterrupt\u001b[0m                         Traceback (most recent call last)",
            "\u001b[0;32m<ipython-input-2-4067f7f64558>\u001b[0m in \u001b[0;36m<module>\u001b[0;34m()\u001b[0m\n\u001b[1;32m      6\u001b[0m \u001b[0;34m\u001b[0m\u001b[0m\n\u001b[1;32m      7\u001b[0m   \u001b[0mprint\u001b[0m\u001b[0;34m(\u001b[0m\u001b[0mcounter\u001b[0m\u001b[0;34m)\u001b[0m\u001b[0;34m\u001b[0m\u001b[0;34m\u001b[0m\u001b[0m\n\u001b[0;32m----> 8\u001b[0;31m   \u001b[0mtime\u001b[0m\u001b[0;34m.\u001b[0m\u001b[0msleep\u001b[0m\u001b[0;34m(\u001b[0m\u001b[0;36m1\u001b[0m\u001b[0;34m)\u001b[0m\u001b[0;34m\u001b[0m\u001b[0;34m\u001b[0m\u001b[0m\n\u001b[0m",
            "\u001b[0;31mKeyboardInterrupt\u001b[0m: "
          ]
        }
      ]
    },
    {
      "cell_type": "code",
      "source": [
        "import random\n",
        "while True:\n",
        "  random_number = random.randrange(100)\n",
        "  print(random_number)\n",
        "\n",
        "  if random_number == 77:\n",
        "    print('Found!')\n",
        "    break"
      ],
      "metadata": {
        "colab": {
          "base_uri": "https://localhost:8080/"
        },
        "id": "qLTFagNmDg00",
        "outputId": "039822b5-f5fa-41d7-8f1e-ef65b3c81780"
      },
      "execution_count": null,
      "outputs": [
        {
          "output_type": "stream",
          "name": "stdout",
          "text": [
            "54\n",
            "66\n",
            "10\n",
            "28\n",
            "11\n",
            "66\n",
            "1\n",
            "13\n",
            "37\n",
            "8\n",
            "97\n",
            "58\n",
            "89\n",
            "39\n",
            "46\n",
            "78\n",
            "38\n",
            "21\n",
            "74\n",
            "68\n",
            "84\n",
            "38\n",
            "2\n",
            "74\n",
            "54\n",
            "93\n",
            "84\n",
            "94\n",
            "67\n",
            "97\n",
            "3\n",
            "48\n",
            "25\n",
            "70\n",
            "2\n",
            "92\n",
            "54\n",
            "3\n",
            "17\n",
            "26\n",
            "88\n",
            "41\n",
            "0\n",
            "2\n",
            "54\n",
            "68\n",
            "98\n",
            "28\n",
            "38\n",
            "63\n",
            "98\n",
            "98\n",
            "22\n",
            "49\n",
            "84\n",
            "91\n",
            "36\n",
            "92\n",
            "52\n",
            "20\n",
            "36\n",
            "95\n",
            "40\n",
            "33\n",
            "60\n",
            "85\n",
            "65\n",
            "49\n",
            "36\n",
            "81\n",
            "15\n",
            "2\n",
            "12\n",
            "41\n",
            "33\n",
            "9\n",
            "27\n",
            "1\n",
            "95\n",
            "4\n",
            "11\n",
            "98\n",
            "45\n",
            "68\n",
            "52\n",
            "1\n",
            "30\n",
            "41\n",
            "20\n",
            "98\n",
            "23\n",
            "17\n",
            "10\n",
            "62\n",
            "36\n",
            "10\n",
            "23\n",
            "13\n",
            "14\n",
            "25\n",
            "20\n",
            "90\n",
            "67\n",
            "76\n",
            "92\n",
            "34\n",
            "57\n",
            "64\n",
            "91\n",
            "90\n",
            "59\n",
            "25\n",
            "73\n",
            "50\n",
            "45\n",
            "89\n",
            "7\n",
            "43\n",
            "20\n",
            "29\n",
            "93\n",
            "52\n",
            "86\n",
            "14\n",
            "61\n",
            "93\n",
            "19\n",
            "45\n",
            "48\n",
            "4\n",
            "99\n",
            "10\n",
            "80\n",
            "98\n",
            "81\n",
            "77\n",
            "Found!\n"
          ]
        }
      ]
    },
    {
      "cell_type": "code",
      "source": [
        "names = ['Max', 'Felix', 'Zeynep', 'Alisha', 'Lucas', 26, 'Sarah']\n",
        "\n",
        "for name in names:\n",
        "  if type(name) != str:\n",
        "    print('Found', name)\n",
        "    break\n",
        "\n",
        "  else:\n",
        "    print(name, 'is a string.')"
      ],
      "metadata": {
        "colab": {
          "base_uri": "https://localhost:8080/"
        },
        "id": "ox4FDBZMD3KR",
        "outputId": "91bf6085-1a16-454b-b795-7de6d1f38f68"
      },
      "execution_count": null,
      "outputs": [
        {
          "output_type": "stream",
          "name": "stdout",
          "text": [
            "Max is a string.\n",
            "Felix is a string.\n",
            "Zeynep is a string.\n",
            "Alisha is a string.\n",
            "Lucas is a string.\n",
            "Found 26\n"
          ]
        }
      ]
    },
    {
      "cell_type": "markdown",
      "source": [
        "### Practical Exercise 2: I am a game developer :)"
      ],
      "metadata": {
        "id": "mnZlaWe4Ehe5"
      }
    },
    {
      "cell_type": "code",
      "source": [
        "import random\n",
        "\n",
        "# Taş, Kağıt, Makas listesini oluştur\n",
        "actions = ['rock', 'paper', 'scissors']\n",
        "\n",
        "# Oyuncuların skorlarını sıfırla\n",
        "player1_score = 0\n",
        "player2_score = 0\n",
        "\n",
        "# Kullanıcıdan kaç tur oynanacağını sor\n",
        "num_rounds = int(input(\"Kaç tur oynamak istiyorsunuz? \"))\n",
        "\n",
        "# Belirtilen tur sayısı kadar oyunu oynayan bir döngü yaz\n",
        "for round in range(1, num_rounds + 1):\n",
        "    print(f\"{round}. Tur:\")\n",
        "\n",
        "    # Her iki oyuncu için rastgele bir seçim yap\n",
        "    player1_choice = random.choice(actions)\n",
        "    player2_choice = random.choice(actions)\n",
        "\n",
        "    # Oyuncuların seçimlerini yazdır\n",
        "    print(f\"1. Oyuncu seçimi: {player1_choice}\")\n",
        "    print(f\"2. Oyuncu seçimi: {player2_choice}\")\n",
        "\n",
        "    # Turun kazananını belirle\n",
        "    if player1_choice == player2_choice:\n",
        "        print(\"Berabere!\")\n",
        "    elif (player1_choice == 'rock' and player2_choice == 'scissors') or \\\n",
        "         (player1_choice == 'paper' and player2_choice == 'rock') or \\\n",
        "         (player1_choice == 'scissors' and player2_choice == 'paper'):\n",
        "        print(\"1. Oyuncu bu turu kazandı!\")\n",
        "        player1_score += 1\n",
        "    else:\n",
        "        print(\"2. Oyuncu bu turu kazandı!\")\n",
        "        player2_score += 1\n",
        "\n",
        "    # Skoru yazdır\n",
        "    print(f\"Skor - 1. Oyuncu: {player1_score}, 2. Oyuncu: {player2_score}\")\n",
        "    print()\n",
        "\n",
        "# Tüm turlar tamamlandıktan sonra nihai sonuçları yazdır\n",
        "print(\"Nihai Skor:\")\n",
        "print(f\"1. Oyuncu: {player1_score}, 2. Oyuncu: {player2_score}\")\n",
        "if player1_score > player2_score:\n",
        "    print(\"Tebrikler! 1. Oyuncu kazandı!\")\n",
        "elif player2_score > player1_score:\n",
        "    print(\"Tebrikler! 2. Oyuncu kazandı!\")\n",
        "else:\n",
        "    print(\"Oyun berabere bitti!\")\n"
      ],
      "metadata": {
        "colab": {
          "base_uri": "https://localhost:8080/"
        },
        "id": "G03YJEF8c7im",
        "outputId": "9c664539-e98a-481e-e1f1-90c4d551ab9c"
      },
      "execution_count": null,
      "outputs": [
        {
          "output_type": "stream",
          "name": "stdout",
          "text": [
            "Kaç tur oynamak istiyorsunuz? 2\n",
            "1. Tur:\n",
            "1. Oyuncu seçimi: rock\n",
            "2. Oyuncu seçimi: scissors\n",
            "1. Oyuncu bu turu kazandı!\n",
            "Skor - 1. Oyuncu: 1, 2. Oyuncu: 0\n",
            "\n",
            "2. Tur:\n",
            "1. Oyuncu seçimi: paper\n",
            "2. Oyuncu seçimi: paper\n",
            "Berabere!\n",
            "Skor - 1. Oyuncu: 1, 2. Oyuncu: 0\n",
            "\n",
            "Nihai Skor:\n",
            "1. Oyuncu: 1, 2. Oyuncu: 0\n",
            "Tebrikler! 1. Oyuncu kazandı!\n"
          ]
        }
      ]
    },
    {
      "cell_type": "markdown",
      "source": [
        "## Functions"
      ],
      "metadata": {
        "id": "qDmsSFyotu3S"
      }
    },
    {
      "cell_type": "code",
      "source": [
        "number = '15'\n",
        "print('Type of number before int() function: ', type(number))\n",
        "print(number)\n",
        "number = int(number)\n",
        "print('Type of number after int() function: ', type(number))\n",
        "print(number)"
      ],
      "metadata": {
        "colab": {
          "base_uri": "https://localhost:8080/"
        },
        "id": "KoiP9ZdUb3YD",
        "outputId": "60b06668-f2d0-4d81-c97e-7d31508d62ee"
      },
      "execution_count": null,
      "outputs": [
        {
          "output_type": "stream",
          "name": "stdout",
          "text": [
            "Type of number before int() function:  <class 'str'>\n",
            "15\n",
            "Type of number after int() function:  <class 'int'>\n",
            "15\n"
          ]
        }
      ]
    },
    {
      "cell_type": "code",
      "source": [
        "def hello(name):\n",
        "  print('Hello', name)"
      ],
      "metadata": {
        "id": "b9q-zIt5cQhs"
      },
      "execution_count": null,
      "outputs": []
    },
    {
      "cell_type": "code",
      "source": [
        "hello('Zeynep')"
      ],
      "metadata": {
        "colab": {
          "base_uri": "https://localhost:8080/"
        },
        "id": "a-ZmXSkocVtA",
        "outputId": "20f51614-ecb4-4000-eaf9-b13d296a3821"
      },
      "execution_count": null,
      "outputs": [
        {
          "output_type": "stream",
          "name": "stdout",
          "text": [
            "Hello Zeynep\n"
          ]
        }
      ]
    },
    {
      "cell_type": "code",
      "source": [
        "def sum(num1, num2):\n",
        "  print(num1 + num2)"
      ],
      "metadata": {
        "id": "SyA5F8adcZ4T"
      },
      "execution_count": null,
      "outputs": []
    },
    {
      "cell_type": "code",
      "source": [
        "sum(3 , 5)"
      ],
      "metadata": {
        "colab": {
          "base_uri": "https://localhost:8080/"
        },
        "id": "tYQyiWk3coOP",
        "outputId": "e8095934-94a3-4e6a-c3cc-12229e0249ac"
      },
      "execution_count": null,
      "outputs": [
        {
          "output_type": "stream",
          "name": "stdout",
          "text": [
            "8\n"
          ]
        }
      ]
    },
    {
      "cell_type": "code",
      "source": [
        "result = sum(3 , 5)\n",
        "print(result)"
      ],
      "metadata": {
        "colab": {
          "base_uri": "https://localhost:8080/"
        },
        "id": "27kIGqGPcr1n",
        "outputId": "1b31f3a2-4c57-48f5-9ac9-0b463f12202d"
      },
      "execution_count": null,
      "outputs": [
        {
          "output_type": "stream",
          "name": "stdout",
          "text": [
            "8\n",
            "None\n"
          ]
        }
      ]
    },
    {
      "cell_type": "code",
      "source": [
        "def sum(num1, num2):\n",
        "  answer = num1 + num2\n",
        "  return answer\n",
        "\n",
        "result = sum(3 , 5)\n",
        "print(result)"
      ],
      "metadata": {
        "colab": {
          "base_uri": "https://localhost:8080/"
        },
        "id": "5i6RKozYcx7W",
        "outputId": "532781fd-4b92-4cc1-807a-d63970911a7e"
      },
      "execution_count": null,
      "outputs": [
        {
          "output_type": "stream",
          "name": "stdout",
          "text": [
            "8\n"
          ]
        }
      ]
    },
    {
      "cell_type": "code",
      "source": [
        "def argument_printer(arg_position1, arg_position2):\n",
        "  print('Argument at position 1: ', arg_position1)\n",
        "  print('Argument at position 2: ', arg_position2)"
      ],
      "metadata": {
        "id": "H44R1TKSdKRH"
      },
      "execution_count": null,
      "outputs": []
    },
    {
      "cell_type": "code",
      "source": [
        "argument_printer('value 1', 'value 2')"
      ],
      "metadata": {
        "colab": {
          "base_uri": "https://localhost:8080/"
        },
        "id": "M7NR8QxHdYJX",
        "outputId": "e51e7ef9-97eb-4ab7-cf0c-91e967960147"
      },
      "execution_count": null,
      "outputs": [
        {
          "output_type": "stream",
          "name": "stdout",
          "text": [
            "Argument at position 1:  value 1\n",
            "Argument at position 2:  value 2\n"
          ]
        }
      ]
    },
    {
      "cell_type": "code",
      "source": [
        "argument_printer()"
      ],
      "metadata": {
        "colab": {
          "base_uri": "https://localhost:8080/",
          "height": 141
        },
        "id": "1G5WQUi_ddt_",
        "outputId": "dd456648-34e9-4590-c793-db58dcbb3a7d"
      },
      "execution_count": null,
      "outputs": [
        {
          "output_type": "error",
          "ename": "TypeError",
          "evalue": "argument_printer() missing 2 required positional arguments: 'arg_position1' and 'arg_position2'",
          "traceback": [
            "\u001b[0;31m---------------------------------------------------------------------------\u001b[0m",
            "\u001b[0;31mTypeError\u001b[0m                                 Traceback (most recent call last)",
            "\u001b[0;32m<ipython-input-20-7f6bf81e85b0>\u001b[0m in \u001b[0;36m<cell line: 1>\u001b[0;34m()\u001b[0m\n\u001b[0;32m----> 1\u001b[0;31m \u001b[0margument_printer\u001b[0m\u001b[0;34m(\u001b[0m\u001b[0;34m)\u001b[0m\u001b[0;34m\u001b[0m\u001b[0;34m\u001b[0m\u001b[0m\n\u001b[0m",
            "\u001b[0;31mTypeError\u001b[0m: argument_printer() missing 2 required positional arguments: 'arg_position1' and 'arg_position2'"
          ]
        }
      ]
    },
    {
      "cell_type": "code",
      "source": [
        "def greetings(first_name, last_name, auto_correction):\n",
        "  if auto_correction == True:\n",
        "    capitalized_first_name = first_name.capitalize()\n",
        "    capitalized_last_name = last_name.capitalize()\n",
        "    print(\"Hello,\", capitalized_first_name, capitalized_last_name)\n",
        "  else:\n",
        "    print(\"Hello,\", first_name, last_name)"
      ],
      "metadata": {
        "id": "cSRxcBY3dhcP"
      },
      "execution_count": null,
      "outputs": []
    },
    {
      "cell_type": "code",
      "source": [
        "greetings('zEyNEp', 'kOz', True)"
      ],
      "metadata": {
        "colab": {
          "base_uri": "https://localhost:8080/"
        },
        "id": "35Nn_Zq9eSmS",
        "outputId": "44d17e95-fef7-4d29-8b57-c11b0c132c7b"
      },
      "execution_count": null,
      "outputs": [
        {
          "output_type": "stream",
          "name": "stdout",
          "text": [
            "Hello, Zeynep Koz\n"
          ]
        }
      ]
    },
    {
      "cell_type": "code",
      "source": [
        "greetings('zEyNEp', 'kOz', False)"
      ],
      "metadata": {
        "colab": {
          "base_uri": "https://localhost:8080/"
        },
        "id": "XJxQ-xAqeiY8",
        "outputId": "66a15aeb-d05d-41a8-e883-e228a148a296"
      },
      "execution_count": null,
      "outputs": [
        {
          "output_type": "stream",
          "name": "stdout",
          "text": [
            "Hello, zEyNEp kOz\n"
          ]
        }
      ]
    },
    {
      "cell_type": "code",
      "source": [
        "def greetings(first_name, last_name, auto_correction = True):\n",
        "  if auto_correction == True:\n",
        "    capitalized_first_name = first_name.capitalize()\n",
        "    capitalized_last_name = last_name.capitalize()\n",
        "    print(\"Hello,\", capitalized_first_name, capitalized_last_name)\n",
        "  else:\n",
        "    print(\"Hello,\", first_name, last_name)"
      ],
      "metadata": {
        "id": "q4K16Fqt_Zz6"
      },
      "execution_count": null,
      "outputs": []
    },
    {
      "cell_type": "code",
      "source": [
        "greetings('zEyNEp', 'kOz')"
      ],
      "metadata": {
        "colab": {
          "base_uri": "https://localhost:8080/"
        },
        "id": "6D9unxADetrD",
        "outputId": "e675c30c-74b1-44db-be49-5fb3db3b8095"
      },
      "execution_count": null,
      "outputs": [
        {
          "output_type": "stream",
          "name": "stdout",
          "text": [
            "Hello, Zeynep Koz\n"
          ]
        }
      ]
    },
    {
      "cell_type": "code",
      "source": [
        "def car(brand, model, color):\n",
        "  print('My favourite car is the', brand, model, 'in the color', color)"
      ],
      "metadata": {
        "id": "syDdP4VMexkb"
      },
      "execution_count": null,
      "outputs": []
    },
    {
      "cell_type": "code",
      "source": [
        "car('Chevrolet', 'Camaro', 'Black')"
      ],
      "metadata": {
        "colab": {
          "base_uri": "https://localhost:8080/"
        },
        "id": "iLTsyWz0fDtj",
        "outputId": "a23334b7-b31a-4834-8b27-93c642119ac3"
      },
      "execution_count": null,
      "outputs": [
        {
          "output_type": "stream",
          "name": "stdout",
          "text": [
            "My favourite car is the Chevrolet Camaro in the color Black\n"
          ]
        }
      ]
    },
    {
      "cell_type": "code",
      "source": [
        "car(color = 'Black', brand = 'Chevrolet', model = 'Camaro')"
      ],
      "metadata": {
        "colab": {
          "base_uri": "https://localhost:8080/"
        },
        "id": "UJdwPXnVhRyv",
        "outputId": "175cf05a-588b-4fa5-f0e8-7258b41eaf34"
      },
      "execution_count": null,
      "outputs": [
        {
          "output_type": "stream",
          "name": "stdout",
          "text": [
            "My favourite car is the Chevrolet Camaro in the color Black\n"
          ]
        }
      ]
    },
    {
      "cell_type": "code",
      "source": [
        "car(color = 'Chevrolet', model = 'Camaro', 'black')"
      ],
      "metadata": {
        "colab": {
          "base_uri": "https://localhost:8080/",
          "height": 106
        },
        "id": "o8WFvknqhVir",
        "outputId": "731c6295-cd48-4f25-833d-1d80fe85a1c3"
      },
      "execution_count": null,
      "outputs": [
        {
          "output_type": "error",
          "ename": "SyntaxError",
          "evalue": "positional argument follows keyword argument (<ipython-input-30-3d779c23eb48>, line 1)",
          "traceback": [
            "\u001b[0;36m  File \u001b[0;32m\"<ipython-input-30-3d779c23eb48>\"\u001b[0;36m, line \u001b[0;32m1\u001b[0m\n\u001b[0;31m    car(color = 'Chevrolet', model = 'Camaro', 'black')\u001b[0m\n\u001b[0m                                                      ^\u001b[0m\n\u001b[0;31mSyntaxError\u001b[0m\u001b[0;31m:\u001b[0m positional argument follows keyword argument\n"
          ]
        }
      ]
    },
    {
      "cell_type": "code",
      "source": [
        "number = 13 #Global Variable\n",
        "def change_number():\n",
        "  number = 4 #Local Variable\n",
        "\n",
        "change_number()\n",
        "print(number)"
      ],
      "metadata": {
        "colab": {
          "base_uri": "https://localhost:8080/"
        },
        "id": "hrOV_YL9hiJr",
        "outputId": "43c9b86d-f0d9-4121-e9e4-ebb6a0ebff48"
      },
      "execution_count": null,
      "outputs": [
        {
          "output_type": "stream",
          "name": "stdout",
          "text": [
            "13\n"
          ]
        }
      ]
    },
    {
      "cell_type": "code",
      "source": [
        "number = 13\n",
        "def change_number():\n",
        "  global number\n",
        "  number = 4\n",
        "\n",
        "change_number()\n",
        "print(number)"
      ],
      "metadata": {
        "colab": {
          "base_uri": "https://localhost:8080/"
        },
        "id": "0bYjissUh4q6",
        "outputId": "1974f2de-9fe7-41a4-e0d4-7d77f0320fce"
      },
      "execution_count": null,
      "outputs": [
        {
          "output_type": "stream",
          "name": "stdout",
          "text": [
            "4\n"
          ]
        }
      ]
    },
    {
      "cell_type": "code",
      "source": [
        "#number = 13\n",
        "\n",
        "def change_number():\n",
        " num = 4\n",
        "\n",
        "change_number()\n",
        "print(num)"
      ],
      "metadata": {
        "colab": {
          "base_uri": "https://localhost:8080/",
          "height": 207
        },
        "id": "uyBNCtCzABFr",
        "outputId": "fec2ec6b-b8d0-4c2d-88ba-b099e75f0794"
      },
      "execution_count": null,
      "outputs": [
        {
          "output_type": "error",
          "ename": "NameError",
          "evalue": "ignored",
          "traceback": [
            "\u001b[0;31m---------------------------------------------------------------------------\u001b[0m",
            "\u001b[0;31mNameError\u001b[0m                                 Traceback (most recent call last)",
            "\u001b[0;32m<ipython-input-23-dc2c014b989b>\u001b[0m in \u001b[0;36m<module>\u001b[0;34m()\u001b[0m\n\u001b[1;32m      5\u001b[0m \u001b[0;34m\u001b[0m\u001b[0m\n\u001b[1;32m      6\u001b[0m \u001b[0mchange_number\u001b[0m\u001b[0;34m(\u001b[0m\u001b[0;34m)\u001b[0m\u001b[0;34m\u001b[0m\u001b[0;34m\u001b[0m\u001b[0m\n\u001b[0;32m----> 7\u001b[0;31m \u001b[0mprint\u001b[0m\u001b[0;34m(\u001b[0m\u001b[0mnum\u001b[0m\u001b[0;34m)\u001b[0m\u001b[0;34m\u001b[0m\u001b[0;34m\u001b[0m\u001b[0m\n\u001b[0m",
            "\u001b[0;31mNameError\u001b[0m: name 'num' is not defined"
          ]
        }
      ]
    },
    {
      "cell_type": "code",
      "source": [
        "#Write following method in the test.py file\n",
        "\"\"\"\n",
        "test.py module\n",
        "This is a test module to print a message to the screen\n",
        "\"\"\"\n",
        "def greetings(name):\n",
        "  print('Hello', name)"
      ],
      "metadata": {
        "id": "_qJzLLC_iv9n"
      },
      "execution_count": null,
      "outputs": []
    },
    {
      "cell_type": "code",
      "source": [
        "import test"
      ],
      "metadata": {
        "id": "zQMKLGBhjBgQ"
      },
      "execution_count": null,
      "outputs": []
    },
    {
      "cell_type": "code",
      "source": [
        "test.greetings('Zeynep')"
      ],
      "metadata": {
        "id": "vnuSaqddjOkn"
      },
      "execution_count": null,
      "outputs": []
    },
    {
      "cell_type": "code",
      "source": [
        "pip install seaborn"
      ],
      "metadata": {
        "colab": {
          "base_uri": "https://localhost:8080/"
        },
        "id": "FPKqPKXNjjuY",
        "outputId": "3b0a5804-1961-407d-f512-13a122ef0f2d"
      },
      "execution_count": null,
      "outputs": [
        {
          "output_type": "stream",
          "name": "stdout",
          "text": [
            "Requirement already satisfied: seaborn in /usr/local/lib/python3.10/dist-packages (0.13.1)\n",
            "Requirement already satisfied: numpy!=1.24.0,>=1.20 in /usr/local/lib/python3.10/dist-packages (from seaborn) (1.26.4)\n",
            "Requirement already satisfied: pandas>=1.2 in /usr/local/lib/python3.10/dist-packages (from seaborn) (2.1.4)\n",
            "Requirement already satisfied: matplotlib!=3.6.1,>=3.4 in /usr/local/lib/python3.10/dist-packages (from seaborn) (3.7.1)\n",
            "Requirement already satisfied: contourpy>=1.0.1 in /usr/local/lib/python3.10/dist-packages (from matplotlib!=3.6.1,>=3.4->seaborn) (1.2.1)\n",
            "Requirement already satisfied: cycler>=0.10 in /usr/local/lib/python3.10/dist-packages (from matplotlib!=3.6.1,>=3.4->seaborn) (0.12.1)\n",
            "Requirement already satisfied: fonttools>=4.22.0 in /usr/local/lib/python3.10/dist-packages (from matplotlib!=3.6.1,>=3.4->seaborn) (4.53.1)\n",
            "Requirement already satisfied: kiwisolver>=1.0.1 in /usr/local/lib/python3.10/dist-packages (from matplotlib!=3.6.1,>=3.4->seaborn) (1.4.5)\n",
            "Requirement already satisfied: packaging>=20.0 in /usr/local/lib/python3.10/dist-packages (from matplotlib!=3.6.1,>=3.4->seaborn) (24.1)\n",
            "Requirement already satisfied: pillow>=6.2.0 in /usr/local/lib/python3.10/dist-packages (from matplotlib!=3.6.1,>=3.4->seaborn) (9.4.0)\n",
            "Requirement already satisfied: pyparsing>=2.3.1 in /usr/local/lib/python3.10/dist-packages (from matplotlib!=3.6.1,>=3.4->seaborn) (3.1.2)\n",
            "Requirement already satisfied: python-dateutil>=2.7 in /usr/local/lib/python3.10/dist-packages (from matplotlib!=3.6.1,>=3.4->seaborn) (2.8.2)\n",
            "Requirement already satisfied: pytz>=2020.1 in /usr/local/lib/python3.10/dist-packages (from pandas>=1.2->seaborn) (2024.1)\n",
            "Requirement already satisfied: tzdata>=2022.1 in /usr/local/lib/python3.10/dist-packages (from pandas>=1.2->seaborn) (2024.1)\n",
            "Requirement already satisfied: six>=1.5 in /usr/local/lib/python3.10/dist-packages (from python-dateutil>=2.7->matplotlib!=3.6.1,>=3.4->seaborn) (1.16.0)\n"
          ]
        }
      ]
    },
    {
      "cell_type": "code",
      "source": [
        "import seaborn as sns"
      ],
      "metadata": {
        "id": "_lFkqUEjjoan"
      },
      "execution_count": null,
      "outputs": []
    },
    {
      "cell_type": "code",
      "source": [
        "import seaborn as sns\n",
        "import matplotlib.pyplot as plt\n",
        "\n",
        "data = [1, 2, 10, 3, 5, 6, 13, 8]\n",
        "\n",
        "# x ve y eksenlerini anahtar kelimelerle belirtin\n",
        "sns.lineplot(x=range(8), y=data)\n",
        "\n",
        "plt.show()\n"
      ],
      "metadata": {
        "colab": {
          "base_uri": "https://localhost:8080/",
          "height": 430
        },
        "id": "VjE025wKjrD_",
        "outputId": "708d549d-317c-4345-d794-b887fa335060"
      },
      "execution_count": null,
      "outputs": [
        {
          "output_type": "display_data",
          "data": {
            "text/plain": [
              "<Figure size 640x480 with 1 Axes>"
            ],
            "image/png": "[encoded data removed]"
          },
          "metadata": {}
        }
      ]
    },
    {
      "cell_type": "markdown",
      "source": [
        "### Practical Exercise 3: Help Julia on her trip to New York"
      ],
      "metadata": {
        "id": "wQMFOoWY3BUs"
      }
    },
    {
      "cell_type": "code",
      "source": [
        "def greetings(name):\n",
        "  print('Hello', name)"
      ],
      "metadata": {
        "id": "4MWIeEG23C68"
      },
      "execution_count": null,
      "outputs": []
    },
    {
      "cell_type": "code",
      "source": [
        "greetings('Sam')"
      ],
      "metadata": {
        "colab": {
          "base_uri": "https://localhost:8080/"
        },
        "id": "DuEEypY73NRk",
        "outputId": "3175ca3b-de6c-4450-d934-ff60d1423663"
      },
      "execution_count": null,
      "outputs": [
        {
          "output_type": "stream",
          "name": "stdout",
          "text": [
            "Hello Sam\n"
          ]
        }
      ]
    },
    {
      "cell_type": "code",
      "source": [
        "def difference(num1, num2):\n",
        "  print(num1 - num2)"
      ],
      "metadata": {
        "id": "ZY9C5r2R3bFs"
      },
      "execution_count": null,
      "outputs": []
    },
    {
      "cell_type": "code",
      "source": [
        "difference(25, 14)"
      ],
      "metadata": {
        "colab": {
          "base_uri": "https://localhost:8080/"
        },
        "id": "jP_l4nKj3fSc",
        "outputId": "8a2d32fb-a1ec-4467-9ed0-bce7adae2e83"
      },
      "execution_count": null,
      "outputs": [
        {
          "output_type": "stream",
          "name": "stdout",
          "text": [
            "11\n"
          ]
        }
      ]
    },
    {
      "cell_type": "code",
      "source": [
        "#Run this cell to store Julia's personal information in variables\n",
        "birthday = \"4 September 1996\"\n",
        "place_of_birth = \"London\"\n",
        "current_city = \"London\""
      ],
      "metadata": {
        "id": "cpB9c7s-3pN8"
      },
      "execution_count": null,
      "outputs": []
    },
    {
      "cell_type": "code",
      "source": [
        "def introduction(name, birthday, place_of_birth, current_city):\n",
        "  print(\"Hello, my name is\", name, \"I was born on\", birthday, \"in\", place_of_birth)"
      ],
      "metadata": {
        "id": "h9aKsPvy3xx7"
      },
      "execution_count": null,
      "outputs": []
    },
    {
      "cell_type": "code",
      "source": [
        "introduction('Julia', '4 September 1996', 'London', 'London')"
      ],
      "metadata": {
        "colab": {
          "base_uri": "https://localhost:8080/"
        },
        "id": "eQvJA23E4EGU",
        "outputId": "d06054d8-df87-416c-a3ea-fc71c19aefa3"
      },
      "execution_count": null,
      "outputs": [
        {
          "output_type": "stream",
          "name": "stdout",
          "text": [
            "Hello, my name is Julia I was born on 4 September 1996 in London\n"
          ]
        }
      ]
    },
    {
      "cell_type": "code",
      "source": [
        "def change_current_city():\n",
        "  global current_city\n",
        "  current_city = \"New York\"\n",
        "\n",
        "change_current_city()\n",
        "print(current_city)"
      ],
      "metadata": {
        "colab": {
          "base_uri": "https://localhost:8080/"
        },
        "id": "_CZJaahz4phw",
        "outputId": "30009df1-00f2-440b-ff6d-64bf9bb02235"
      },
      "execution_count": null,
      "outputs": [
        {
          "output_type": "stream",
          "name": "stdout",
          "text": [
            "New York\n"
          ]
        }
      ]
    },
    {
      "cell_type": "code",
      "source": [
        "#We need to import the seaborn library\n",
        "import seaborn as sns\n",
        "import matplotlib.pyplot as plt\n",
        "#Weather Data\n",
        "day = [1, 2, 3, 4, 5, 6, 7]\n",
        "avg_temp = [14, 9, 3, 11, 18, 27, 6]\n",
        "\n",
        "#Create a bar plot for the given data\n",
        "sns.barplot(x=day, y=avg_temp)\n",
        "\n",
        "#Show the plot\n",
        "plt.show()"
      ],
      "metadata": {
        "colab": {
          "base_uri": "https://localhost:8080/",
          "height": 430
        },
        "id": "DztdmkqF5DkI",
        "outputId": "8dcc8704-cea3-417b-99f4-b9806583ed93"
      },
      "execution_count": null,
      "outputs": [
        {
          "output_type": "display_data",
          "data": {
            "text/plain": [
              "<Figure size 640x480 with 1 Axes>"
            ],
            "image/png": "[encoded data removed]"
          },
          "metadata": {}
        }
      ]
    },
    {
      "cell_type": "code",
      "source": [
        "#import library\n",
        "import math"
      ],
      "metadata": {
        "id": "U4mEL8oN55Ln"
      },
      "execution_count": null,
      "outputs": []
    },
    {
      "cell_type": "code",
      "source": [
        "def miles_to_km(miles):\n",
        "  km = miles * 1.60934\n",
        "  return km\n",
        "\n",
        "def km_to_miles(km):\n",
        "  miles = km / 1.60934\n",
        "  return miles"
      ],
      "metadata": {
        "id": "6ND4Jod759xw"
      },
      "execution_count": null,
      "outputs": []
    },
    {
      "cell_type": "code",
      "source": [
        "assert math.isclose(miles_to_km(132.2), 212.754748, abs_tol = 1e-5), \"Test failed for mile_to_km\"\n",
        "assert math.isclose(km_to_miles(48.44), 30.099295, abs_tol = 1e-5), \"Test failed for km_to_mile\"\n",
        "print(\"Test passed!\")"
      ],
      "metadata": {
        "colab": {
          "base_uri": "https://localhost:8080/"
        },
        "id": "__E4VHus6Eoz",
        "outputId": "d673e9e5-db22-47d9-d792-fec96e4c62ee"
      },
      "execution_count": null,
      "outputs": [
        {
          "output_type": "stream",
          "name": "stdout",
          "text": [
            "Test passed!\n"
          ]
        }
      ]
    },
    {
      "cell_type": "code",
      "source": [
        "miles_to_km(12)"
      ],
      "metadata": {
        "colab": {
          "base_uri": "https://localhost:8080/"
        },
        "id": "n3apab6M6hFs",
        "outputId": "d4901781-dab1-465c-c39a-e3ffac705921"
      },
      "execution_count": null,
      "outputs": [
        {
          "output_type": "execute_result",
          "data": {
            "text/plain": [
              "19.31208"
            ]
          },
          "metadata": {},
          "execution_count": 70
        }
      ]
    },
    {
      "cell_type": "code",
      "source": [
        "def pound_to_kg(quantity, mode):\n",
        "  assert mode == \"pound2kg\" or mode == \"kg2pound\", \"Invalid argument!\"\n",
        "#Here the assert command ensures that a valid mode is given as argument.\n",
        "\n",
        "  #Write a statement to convert pound to kilogram for mode \"pound2kg\"\n",
        "  if mode == \"pound2kg\":\n",
        "    print(quantity * 0.453592)\n",
        "\n",
        "  #Else it should convert kilogram to pound.\n",
        "  else:\n",
        "    print(quantity / 0.453592)"
      ],
      "metadata": {
        "id": "lzqbC4Ly6-18"
      },
      "execution_count": null,
      "outputs": []
    },
    {
      "cell_type": "code",
      "source": [
        "def fahrenheit_celcius(temperature, mode):\n",
        "  assert mode == \"f2c\" or mode == \"c2f\", \"Invalid argument!\"\n",
        "  # Write a statement to convert Fahrenheit to Celsius or Celsius to Fahrenheit\n",
        "\n",
        "  if mode == \"f2c\":\n",
        "    print((temperature - 32) * 5/9)\n",
        "  else:\n",
        "    print(temperature * 9/5 + 32)"
      ],
      "metadata": {
        "id": "himk5bi4T20t"
      },
      "execution_count": null,
      "outputs": []
    },
    {
      "cell_type": "code",
      "source": [
        "fahrenheit_celcius(88, \"f2c\")"
      ],
      "metadata": {
        "colab": {
          "base_uri": "https://localhost:8080/"
        },
        "id": "ws3bPi2LURBU",
        "outputId": "de160c21-f633-47cb-81cd-268b5d0ead7c"
      },
      "execution_count": null,
      "outputs": [
        {
          "output_type": "stream",
          "name": "stdout",
          "text": [
            "31.11111111111111\n"
          ]
        }
      ]
    },
    {
      "cell_type": "markdown",
      "source": [
        "## Data Structures"
      ],
      "metadata": {
        "id": "aDjnnmB8t9hl"
      }
    },
    {
      "cell_type": "code",
      "source": [
        "shopping_list = [\"Apple\", \"Juice\", \"Ball\", \"Book\"]"
      ],
      "metadata": {
        "id": "bMGmLNS9VW9Y"
      },
      "execution_count": null,
      "outputs": []
    },
    {
      "cell_type": "code",
      "source": [
        "#Listenin sonuna \"Water\" eklendi\n",
        "shopping_list.append(\"Water\")\n",
        "print(shopping_list)"
      ],
      "metadata": {
        "colab": {
          "base_uri": "https://localhost:8080/"
        },
        "id": "RifI5dyjWVu8",
        "outputId": "5c56978c-44b2-4e25-b8ce-e1bd34798887"
      },
      "execution_count": null,
      "outputs": [
        {
          "output_type": "stream",
          "name": "stdout",
          "text": [
            "['Apple', 'Juice', 'Ball', 'Book', 'Water']\n"
          ]
        }
      ]
    },
    {
      "cell_type": "code",
      "source": [
        "#Listenin 2. indexine \"Banana\" eklendi\n",
        "shopping_list.insert(2, \"Banana\")\n",
        "print(shopping_list)"
      ],
      "metadata": {
        "colab": {
          "base_uri": "https://localhost:8080/"
        },
        "id": "LIxNUnBUWbG9",
        "outputId": "0d8c38d5-f800-476b-bc45-19346a35ee2f"
      },
      "execution_count": null,
      "outputs": [
        {
          "output_type": "stream",
          "name": "stdout",
          "text": [
            "['Apple', 'Juice', 'Banana', 'Ball', 'Book', 'Water']\n"
          ]
        }
      ]
    },
    {
      "cell_type": "code",
      "source": [
        "#\"Apple\" indexi listeden silindi\n",
        "shopping_list.remove(\"Apple\")\n",
        "print(shopping_list)"
      ],
      "metadata": {
        "colab": {
          "base_uri": "https://localhost:8080/"
        },
        "id": "6NK5DhVQWjA1",
        "outputId": "eebb8046-e5af-4922-96ae-ead0be65ab6d"
      },
      "execution_count": null,
      "outputs": [
        {
          "output_type": "stream",
          "name": "stdout",
          "text": [
            "['Juice', 'Banana', 'Ball', 'Book', 'Water']\n"
          ]
        }
      ]
    },
    {
      "cell_type": "code",
      "source": [
        "#Listenin 3. indexi \"Strawberry\" oldu\n",
        "shopping_list[3] = \"Strawberry\"\n",
        "print(shopping_list)"
      ],
      "metadata": {
        "colab": {
          "base_uri": "https://localhost:8080/"
        },
        "id": "DalfHEtnWoNN",
        "outputId": "cef0437d-bb23-4aca-d075-8e0ecc692140"
      },
      "execution_count": null,
      "outputs": [
        {
          "output_type": "stream",
          "name": "stdout",
          "text": [
            "['Juice', 'Banana', 'Ball', 'Strawberry', 'Water']\n"
          ]
        }
      ]
    },
    {
      "cell_type": "code",
      "source": [
        "number_list = [1, 2, 3, 4, 5]"
      ],
      "metadata": {
        "id": "3CxtS04OWxFM"
      },
      "execution_count": null,
      "outputs": []
    },
    {
      "cell_type": "code",
      "source": [
        "square_list = []"
      ],
      "metadata": {
        "id": "zteKtJglW1F8"
      },
      "execution_count": null,
      "outputs": []
    },
    {
      "cell_type": "code",
      "source": [
        "for num in number_list:\n",
        "  square_list.append(num ** 2)\n",
        "\n",
        "print(square_list)"
      ],
      "metadata": {
        "colab": {
          "base_uri": "https://localhost:8080/"
        },
        "id": "qgLX7DnxW4V9",
        "outputId": "e5e9b041-0ec0-40ee-b2ff-ecf6e47473c9"
      },
      "execution_count": null,
      "outputs": [
        {
          "output_type": "stream",
          "name": "stdout",
          "text": [
            "[1, 4, 9, 16, 25]\n"
          ]
        }
      ]
    },
    {
      "cell_type": "code",
      "source": [
        "number_list = [1, 2, 3, 4, 5]\n",
        "square_list = [num ** 2 for num in number_list]\n",
        "\n",
        "print(square_list)"
      ],
      "metadata": {
        "colab": {
          "base_uri": "https://localhost:8080/"
        },
        "id": "esNY-d-2XC69",
        "outputId": "f12c6ceb-cbbd-4cbc-c89f-a46872c534d7"
      },
      "execution_count": null,
      "outputs": [
        {
          "output_type": "stream",
          "name": "stdout",
          "text": [
            "[1, 4, 9, 16, 25]\n"
          ]
        }
      ]
    },
    {
      "cell_type": "code",
      "source": [
        "shopping_list = [\"Apple\", \"Juice\", \"Ball\", \"Book\"]"
      ],
      "metadata": {
        "id": "mkC2W5KsXM-d"
      },
      "execution_count": null,
      "outputs": []
    },
    {
      "cell_type": "code",
      "source": [
        "item1, item2, item3, item4 = shopping_list\n",
        "print(item1)\n",
        "print(item2)\n",
        "print(item3)\n",
        "print(item4)"
      ],
      "metadata": {
        "colab": {
          "base_uri": "https://localhost:8080/"
        },
        "id": "ZORXAT67XQD5",
        "outputId": "33b46a8d-c556-460e-943c-070706b824fc"
      },
      "execution_count": null,
      "outputs": [
        {
          "output_type": "stream",
          "name": "stdout",
          "text": [
            "Apple\n",
            "Juice\n",
            "Ball\n",
            "Book\n"
          ]
        }
      ]
    },
    {
      "cell_type": "code",
      "source": [
        "print(shopping_list[0])"
      ],
      "metadata": {
        "colab": {
          "base_uri": "https://localhost:8080/"
        },
        "id": "w_BPH8KNXUWE",
        "outputId": "58794d5a-9ae8-422d-a489-c1ff16ac2ad1"
      },
      "execution_count": null,
      "outputs": [
        {
          "output_type": "stream",
          "name": "stdout",
          "text": [
            "Apple\n"
          ]
        }
      ]
    },
    {
      "cell_type": "code",
      "source": [
        "#1'den 3'e kadar\n",
        "print(shopping_list[1:3])"
      ],
      "metadata": {
        "colab": {
          "base_uri": "https://localhost:8080/"
        },
        "id": "fOp5ChLBXWlw",
        "outputId": "90336108-4758-49d1-e5c5-3df3e50dffb9"
      },
      "execution_count": null,
      "outputs": [
        {
          "output_type": "stream",
          "name": "stdout",
          "text": [
            "['Juice', 'Ball']\n"
          ]
        }
      ]
    },
    {
      "cell_type": "code",
      "source": [
        "shopping_list[1] = \"Water\""
      ],
      "metadata": {
        "colab": {
          "base_uri": "https://localhost:8080/",
          "height": 170
        },
        "id": "SkeRcHnTkXo2",
        "outputId": "b5e55d6e-d04f-4932-b72f-e665c8b31c3e"
      },
      "execution_count": null,
      "outputs": [
        {
          "output_type": "error",
          "ename": "TypeError",
          "evalue": "ignored",
          "traceback": [
            "\u001b[0;31m---------------------------------------------------------------------------\u001b[0m",
            "\u001b[0;31mTypeError\u001b[0m                                 Traceback (most recent call last)",
            "\u001b[0;32m<ipython-input-14-5d3c93f17450>\u001b[0m in \u001b[0;36m<module>\u001b[0;34m()\u001b[0m\n\u001b[0;32m----> 1\u001b[0;31m \u001b[0mshopping_list\u001b[0m\u001b[0;34m[\u001b[0m\u001b[0;36m1\u001b[0m\u001b[0;34m]\u001b[0m \u001b[0;34m=\u001b[0m \u001b[0;34m\"Water\"\u001b[0m\u001b[0;34m\u001b[0m\u001b[0;34m\u001b[0m\u001b[0m\n\u001b[0m",
            "\u001b[0;31mTypeError\u001b[0m: 'tuple' object does not support item assignment"
          ]
        }
      ]
    },
    {
      "cell_type": "code",
      "source": [
        "phone_book = {'Zeynep':'+90 505 123 45 67', 'Ömer': '+49 157 12345678', 'Ayla':'+1 234 235 5678'}\n",
        "print(phone_book)"
      ],
      "metadata": {
        "colab": {
          "base_uri": "https://localhost:8080/"
        },
        "id": "DaKrw6WwYuhx",
        "outputId": "21e92916-0393-40b0-ed74-f8580f5c307e"
      },
      "execution_count": null,
      "outputs": [
        {
          "output_type": "stream",
          "name": "stdout",
          "text": [
            "{'Zeynep': '+90 505 123 45 67', 'Ömer': '+49 157 12345678', 'Ayla': '+1 234 235 5678'}\n"
          ]
        }
      ]
    },
    {
      "cell_type": "code",
      "source": [
        "print(phone_book['Zeynep'])"
      ],
      "metadata": {
        "colab": {
          "base_uri": "https://localhost:8080/"
        },
        "id": "H81ztvxSY9nk",
        "outputId": "baf15318-509a-4b7f-a0e0-a1ac6764df01"
      },
      "execution_count": null,
      "outputs": [
        {
          "output_type": "stream",
          "name": "stdout",
          "text": [
            "+90 505 123 45 67\n"
          ]
        }
      ]
    },
    {
      "cell_type": "code",
      "source": [
        "inventory = dict()\n",
        "inventory['bananas'] = 25\n",
        "inventory['apples'] = 102\n",
        "inventory['oranges'] = 54\n",
        "inventory['watermelons'] = 4"
      ],
      "metadata": {
        "id": "E1Lqnlh5ZEO8"
      },
      "execution_count": null,
      "outputs": []
    },
    {
      "cell_type": "code",
      "source": [
        "print(inventory)"
      ],
      "metadata": {
        "colab": {
          "base_uri": "https://localhost:8080/"
        },
        "id": "lfgTkoaUZQ0E",
        "outputId": "8334bcde-b99a-46ad-8876-4b3f671f6125"
      },
      "execution_count": null,
      "outputs": [
        {
          "output_type": "stream",
          "name": "stdout",
          "text": [
            "{'bananas': 25, 'apples': 102, 'oranges': 54, 'watermelons': 4}\n"
          ]
        }
      ]
    },
    {
      "cell_type": "code",
      "source": [
        "print(inventory['apples'])"
      ],
      "metadata": {
        "colab": {
          "base_uri": "https://localhost:8080/"
        },
        "id": "v6qZIUcRZTIE",
        "outputId": "ebaa3842-5975-4f53-87f7-691467291d86"
      },
      "execution_count": null,
      "outputs": [
        {
          "output_type": "stream",
          "name": "stdout",
          "text": [
            "102\n"
          ]
        }
      ]
    },
    {
      "cell_type": "code",
      "source": [
        "print(inventory.keys())"
      ],
      "metadata": {
        "colab": {
          "base_uri": "https://localhost:8080/"
        },
        "id": "ppHoLSewZWcV",
        "outputId": "6d25c21d-bab7-4914-987b-6e22a0f104a2"
      },
      "execution_count": null,
      "outputs": [
        {
          "output_type": "stream",
          "name": "stdout",
          "text": [
            "dict_keys(['bananas', 'apples', 'oranges', 'watermelons'])\n"
          ]
        }
      ]
    },
    {
      "cell_type": "code",
      "source": [
        "print(inventory.values())"
      ],
      "metadata": {
        "colab": {
          "base_uri": "https://localhost:8080/"
        },
        "id": "NlJMIxJ7ZaHs",
        "outputId": "bbe58c08-fa36-432c-948b-08a1372165bb"
      },
      "execution_count": null,
      "outputs": [
        {
          "output_type": "stream",
          "name": "stdout",
          "text": [
            "dict_values([25, 102, 54, 4])\n"
          ]
        }
      ]
    },
    {
      "cell_type": "code",
      "source": [
        "print(inventory.items())"
      ],
      "metadata": {
        "colab": {
          "base_uri": "https://localhost:8080/"
        },
        "id": "SBjlt18rZcI1",
        "outputId": "3d93be74-6aa8-45a2-932d-dca9719c4cf5"
      },
      "execution_count": null,
      "outputs": [
        {
          "output_type": "stream",
          "name": "stdout",
          "text": [
            "dict_items([('bananas', 25), ('apples', 102), ('oranges', 54), ('watermelons', 4)])\n"
          ]
        }
      ]
    },
    {
      "cell_type": "code",
      "source": [
        "for element in inventory:\n",
        "  print(element)"
      ],
      "metadata": {
        "colab": {
          "base_uri": "https://localhost:8080/"
        },
        "id": "kg8H4-CRZfbt",
        "outputId": "fd1b58b3-bad5-4419-f2b9-ebc6cde20ec6"
      },
      "execution_count": null,
      "outputs": [
        {
          "output_type": "stream",
          "name": "stdout",
          "text": [
            "bananas\n",
            "apples\n",
            "oranges\n",
            "watermelons\n"
          ]
        }
      ]
    },
    {
      "cell_type": "code",
      "source": [
        "for key in inventory:\n",
        "  inventory[key] += 100\n",
        "\n",
        "print(inventory)"
      ],
      "metadata": {
        "colab": {
          "base_uri": "https://localhost:8080/"
        },
        "id": "xma-VqhuZizN",
        "outputId": "f7b618f3-d2a1-4bdd-b23a-385488b764f7"
      },
      "execution_count": null,
      "outputs": [
        {
          "output_type": "stream",
          "name": "stdout",
          "text": [
            "{'bananas': 125, 'apples': 202, 'oranges': 154, 'watermelons': 104}\n"
          ]
        }
      ]
    },
    {
      "cell_type": "code",
      "source": [
        "for key, value in inventory.items():\n",
        "  if value > 200:\n",
        "    print('Too many', key)\n",
        "  else:\n",
        "    print('Enough', key)"
      ],
      "metadata": {
        "colab": {
          "base_uri": "https://localhost:8080/"
        },
        "id": "ZmG5ZBIqZs2k",
        "outputId": "a34a998b-0fcd-417f-bc02-1ffa3bc4dc8e"
      },
      "execution_count": null,
      "outputs": [
        {
          "output_type": "stream",
          "name": "stdout",
          "text": [
            "Enough bananas\n",
            "Too many apples\n",
            "Enough oranges\n",
            "Enough watermelons\n"
          ]
        }
      ]
    },
    {
      "cell_type": "markdown",
      "source": [
        "### Practical Exercise 4: My own supermarket"
      ],
      "metadata": {
        "id": "YXNerlJzvWIq"
      }
    },
    {
      "cell_type": "code",
      "source": [
        "#Create a shopping list\n",
        "shopping_list = ['Biscuit', 'Coffee', 'Milk', 'Egg']"
      ],
      "metadata": {
        "id": "_5NjIGrdve0J"
      },
      "execution_count": null,
      "outputs": []
    },
    {
      "cell_type": "code",
      "source": [
        "#Use the append method to add bananas to your list\n",
        "shopping_list.append('Bananas')\n",
        "\n",
        "#Print your shopping list\n",
        "print(shopping_list)\n",
        "\n",
        "#Use insert method to add onions at a specific position in your list\n",
        "shopping_list.insert(3, 'Onions')\n",
        "\n",
        "#Print your shopping list\n",
        "print(shopping_list)"
      ],
      "metadata": {
        "id": "YC3QlYU6NIrC",
        "colab": {
          "base_uri": "https://localhost:8080/"
        },
        "outputId": "cb921a25-23bd-49d4-ebae-f7d05d66e758"
      },
      "execution_count": null,
      "outputs": [
        {
          "output_type": "stream",
          "name": "stdout",
          "text": [
            "['Biscuit', 'Coffee', 'Milk', 'Egg', 'Bananas']\n",
            "['Biscuit', 'Coffee', 'Milk', 'Onions', 'Egg', 'Bananas']\n"
          ]
        }
      ]
    },
    {
      "cell_type": "code",
      "source": [
        "shopping_list.append('Potatoes')\n",
        "#Use the remove method to remove potatoes from the list\n",
        "shopping_list.remove('Potatoes')\n",
        "\n",
        "#Print your shopping list\n",
        "print(shopping_list)"
      ],
      "metadata": {
        "colab": {
          "base_uri": "https://localhost:8080/"
        },
        "id": "f59ZNe9jwjM5",
        "outputId": "1f8bd98f-827e-4b03-dbdf-3a561896c351"
      },
      "execution_count": null,
      "outputs": [
        {
          "output_type": "stream",
          "name": "stdout",
          "text": [
            "['Biscuit', 'Coffee', 'Milk', 'Onions', 'Egg', 'Bananas']\n"
          ]
        }
      ]
    },
    {
      "cell_type": "markdown",
      "source": [
        "## Files and Errors"
      ],
      "metadata": {
        "id": "mDlmWo7w2dYQ"
      }
    },
    {
      "cell_type": "code",
      "source": [
        "#Navigate to message.txt's directory\n",
        "%cd /content/file_operations"
      ],
      "metadata": {
        "colab": {
          "base_uri": "https://localhost:8080/"
        },
        "id": "YPKYKyAL2hdQ",
        "outputId": "cf8bba1a-0b07-4490-d2af-31c8998c49ce"
      },
      "execution_count": null,
      "outputs": [
        {
          "output_type": "stream",
          "name": "stdout",
          "text": [
            "/content/file_operations\n"
          ]
        }
      ]
    },
    {
      "cell_type": "code",
      "source": [
        "#open hello.txt text file in the current directory\n",
        "message_file = open('message.txt')"
      ],
      "metadata": {
        "id": "8F0nwdVUDAYY"
      },
      "execution_count": null,
      "outputs": []
    },
    {
      "cell_type": "code",
      "source": [
        "#specifying the full path\n",
        "message_file = open('/content/file_operations/message.txt')"
      ],
      "metadata": {
        "id": "TokF8vGQENaJ"
      },
      "execution_count": null,
      "outputs": []
    },
    {
      "cell_type": "code",
      "source": [
        "message_file = open('message.txt', \"r\")"
      ],
      "metadata": {
        "id": "SnrwCLOeFTNR"
      },
      "execution_count": null,
      "outputs": []
    },
    {
      "cell_type": "code",
      "source": [
        "content = message_file.read()\n",
        "message_file.close()"
      ],
      "metadata": {
        "id": "R8DoZ1kNFZmh"
      },
      "execution_count": null,
      "outputs": []
    },
    {
      "cell_type": "code",
      "source": [
        "print(content)"
      ],
      "metadata": {
        "colab": {
          "base_uri": "https://localhost:8080/"
        },
        "id": "DqOVP8TjFgOo",
        "outputId": "ea0f9b30-426d-490c-8bdf-b6f3be85527f"
      },
      "execution_count": null,
      "outputs": [
        {
          "output_type": "stream",
          "name": "stdout",
          "text": [
            "\n"
          ]
        }
      ]
    },
    {
      "cell_type": "code",
      "source": [
        "hello_file = open('hello.txt', \"w\")"
      ],
      "metadata": {
        "id": "wRNmoUQkFm8g"
      },
      "execution_count": null,
      "outputs": []
    },
    {
      "cell_type": "code",
      "source": [
        "hello_file.write('Hello World, this is Python')\n",
        "hello_file.close()"
      ],
      "metadata": {
        "id": "C0r8d5ReFo7f"
      },
      "execution_count": null,
      "outputs": []
    },
    {
      "cell_type": "code",
      "source": [
        "import random\n",
        "while True:\n",
        "  random_number = random.randrange(100)\n",
        "  print(random_number)\n",
        "\n",
        "  if random_number == 77:\n",
        "    print('Found!')\n",
        "    break"
      ],
      "metadata": {
        "colab": {
          "base_uri": "https://localhost:8080/"
        },
        "id": "NYwOg2qgFxBY",
        "outputId": "2014ea73-0de5-4372-91e8-41701873f363"
      },
      "execution_count": null,
      "outputs": [
        {
          "output_type": "stream",
          "name": "stdout",
          "text": [
            "55\n",
            "58\n",
            "95\n",
            "29\n",
            "46\n",
            "24\n",
            "42\n",
            "86\n",
            "40\n",
            "57\n",
            "29\n",
            "78\n",
            "4\n",
            "88\n",
            "85\n",
            "45\n",
            "94\n",
            "26\n",
            "38\n",
            "29\n",
            "3\n",
            "22\n",
            "88\n",
            "94\n",
            "85\n",
            "52\n",
            "98\n",
            "86\n",
            "53\n",
            "60\n",
            "96\n",
            "5\n",
            "59\n",
            "41\n",
            "6\n",
            "57\n",
            "95\n",
            "39\n",
            "43\n",
            "40\n",
            "10\n",
            "22\n",
            "68\n",
            "99\n",
            "74\n",
            "15\n",
            "35\n",
            "20\n",
            "10\n",
            "74\n",
            "81\n",
            "74\n",
            "99\n",
            "4\n",
            "25\n",
            "80\n",
            "3\n",
            "73\n",
            "41\n",
            "0\n",
            "52\n",
            "71\n",
            "24\n",
            "57\n",
            "16\n",
            "47\n",
            "83\n",
            "31\n",
            "70\n",
            "15\n",
            "92\n",
            "47\n",
            "2\n",
            "8\n",
            "60\n",
            "23\n",
            "47\n",
            "26\n",
            "20\n",
            "45\n",
            "37\n",
            "72\n",
            "12\n",
            "77\n",
            "Found!\n"
          ]
        }
      ]
    },
    {
      "cell_type": "code",
      "source": [
        "import random\n",
        "\n",
        "numbers_file = open('numbers.txt', 'w')\n",
        "\n",
        "while True:\n",
        "  random_number = random.randrange(100)\n",
        "  print(random_number)\n",
        "  numbers_file.write(str(random_number))\n",
        "  numbers_file.write('\\n')\n",
        "\n",
        "  if random_number == 77:\n",
        "    print('Found!')\n",
        "    numbers_file.write('Found!')\n",
        "    numbers_file.close()\n",
        "    break"
      ],
      "metadata": {
        "colab": {
          "base_uri": "https://localhost:8080/"
        },
        "id": "NfoRzITwGEjU",
        "outputId": "d8791646-c94a-4bff-db93-4605a7e3f94a"
      },
      "execution_count": null,
      "outputs": [
        {
          "output_type": "stream",
          "name": "stdout",
          "text": [
            "25\n",
            "30\n",
            "60\n",
            "99\n",
            "9\n",
            "49\n",
            "26\n",
            "48\n",
            "2\n",
            "8\n",
            "73\n",
            "70\n",
            "76\n",
            "27\n",
            "69\n",
            "14\n",
            "88\n",
            "73\n",
            "77\n",
            "Found!\n"
          ]
        }
      ]
    },
    {
      "cell_type": "code",
      "source": [
        "import random\n",
        "\n",
        "with open('number_history.txt', 'w') as number_file:\n",
        "\n",
        "  while True:\n",
        "    random_number = random.randrange(100)\n",
        "    print(random_number)\n",
        "    number_file.write(str(random_number))\n",
        "    number_file.write('\\n')\n",
        "\n",
        "    if random_number == 77:\n",
        "      print('Found!')\n",
        "      number_file.write('Found!')\n",
        "      break"
      ],
      "metadata": {
        "colab": {
          "base_uri": "https://localhost:8080/"
        },
        "id": "13BzXRRAGZxc",
        "outputId": "f47c1f59-4244-45e4-e0d3-7b954376352a"
      },
      "execution_count": null,
      "outputs": [
        {
          "output_type": "stream",
          "name": "stdout",
          "text": [
            "93\n",
            "28\n",
            "99\n",
            "21\n",
            "75\n",
            "52\n",
            "82\n",
            "83\n",
            "16\n",
            "74\n",
            "67\n",
            "57\n",
            "39\n",
            "96\n",
            "73\n",
            "14\n",
            "68\n",
            "11\n",
            "9\n",
            "17\n",
            "70\n",
            "36\n",
            "81\n",
            "11\n",
            "77\n",
            "Found!\n"
          ]
        }
      ]
    },
    {
      "cell_type": "code",
      "source": [
        "number1 = 15\n",
        "number2 = input('Please enter a number: ')\n",
        "print(number1 + number2)"
      ],
      "metadata": {
        "colab": {
          "base_uri": "https://localhost:8080/",
          "height": 193
        },
        "id": "G7OFgGgcG_L7",
        "outputId": "26b1888b-1ee6-4ab2-cb91-1ba3aa74e92d"
      },
      "execution_count": null,
      "outputs": [
        {
          "name": "stdout",
          "output_type": "stream",
          "text": [
            "Please enter a number: 5\n"
          ]
        },
        {
          "output_type": "error",
          "ename": "TypeError",
          "evalue": "unsupported operand type(s) for +: 'int' and 'str'",
          "traceback": [
            "\u001b[0;31m---------------------------------------------------------------------------\u001b[0m",
            "\u001b[0;31mTypeError\u001b[0m                                 Traceback (most recent call last)",
            "\u001b[0;32m<ipython-input-15-511096a24d75>\u001b[0m in \u001b[0;36m<cell line: 3>\u001b[0;34m()\u001b[0m\n\u001b[1;32m      1\u001b[0m \u001b[0mnumber1\u001b[0m \u001b[0;34m=\u001b[0m \u001b[0;36m15\u001b[0m\u001b[0;34m\u001b[0m\u001b[0;34m\u001b[0m\u001b[0m\n\u001b[1;32m      2\u001b[0m \u001b[0mnumber2\u001b[0m \u001b[0;34m=\u001b[0m \u001b[0minput\u001b[0m\u001b[0;34m(\u001b[0m\u001b[0;34m'Please enter a number: '\u001b[0m\u001b[0;34m)\u001b[0m\u001b[0;34m\u001b[0m\u001b[0;34m\u001b[0m\u001b[0m\n\u001b[0;32m----> 3\u001b[0;31m \u001b[0mprint\u001b[0m\u001b[0;34m(\u001b[0m\u001b[0mnumber1\u001b[0m \u001b[0;34m+\u001b[0m \u001b[0mnumber2\u001b[0m\u001b[0;34m)\u001b[0m\u001b[0;34m\u001b[0m\u001b[0;34m\u001b[0m\u001b[0m\n\u001b[0m",
            "\u001b[0;31mTypeError\u001b[0m: unsupported operand type(s) for +: 'int' and 'str'"
          ]
        }
      ]
    },
    {
      "cell_type": "code",
      "source": [
        "celcius = 18\n",
        "if celcius > 20:\n",
        "  print('Good')\n",
        "  else:\n",
        "    print('Cold')"
      ],
      "metadata": {
        "colab": {
          "base_uri": "https://localhost:8080/",
          "height": 106
        },
        "id": "s5YeHz0aHM1z",
        "outputId": "3992da28-b83c-44a0-b942-cf3e9ad0020a"
      },
      "execution_count": null,
      "outputs": [
        {
          "output_type": "error",
          "ename": "SyntaxError",
          "evalue": "invalid syntax (<ipython-input-16-d5c3bf030d3b>, line 4)",
          "traceback": [
            "\u001b[0;36m  File \u001b[0;32m\"<ipython-input-16-d5c3bf030d3b>\"\u001b[0;36m, line \u001b[0;32m4\u001b[0m\n\u001b[0;31m    else:\u001b[0m\n\u001b[0m    ^\u001b[0m\n\u001b[0;31mSyntaxError\u001b[0m\u001b[0;31m:\u001b[0m invalid syntax\n"
          ]
        }
      ]
    },
    {
      "cell_type": "code",
      "source": [
        "def divide(number1, number2):\n",
        "  number1_integer = int(number1)\n",
        "  number2_integer = int(number2)\n",
        "  return number1_integer / number2_integer\n",
        "\n",
        "number1 = input('Please provide number 1: ')\n",
        "number2 = input('Please provide number 2: ')\n",
        "\n",
        "print(divide(number1, number2))"
      ],
      "metadata": {
        "colab": {
          "base_uri": "https://localhost:8080/"
        },
        "id": "EHdJKilnHWqA",
        "outputId": "db2d16da-f6d6-434d-a27d-af9f345095b1"
      },
      "execution_count": null,
      "outputs": [
        {
          "output_type": "stream",
          "name": "stdout",
          "text": [
            "Please provide number 1: 15\n",
            "Please provide number 2: 5\n",
            "3.0\n"
          ]
        }
      ]
    },
    {
      "cell_type": "code",
      "source": [
        "def divide(number1, number2):\n",
        "   try:\n",
        "       number1_integer = int(number1)\n",
        "       number2_integer = int(number2)\n",
        "       return number1_integer / number2_integer\n",
        "\n",
        "   except:\n",
        "       return 'Only integers are allowed! Try again.'\n",
        "\n",
        "number1 = input('Please provide a number1: ')\n",
        "number2 = input('Please provide a number2: ')\n",
        "\n",
        "print(divide(number1, number2))"
      ],
      "metadata": {
        "colab": {
          "base_uri": "https://localhost:8080/"
        },
        "id": "l3wTCiZmH9Uk",
        "outputId": "f27c5d28-78ce-4982-cf87-c27ece2df7c6"
      },
      "execution_count": null,
      "outputs": [
        {
          "output_type": "stream",
          "name": "stdout",
          "text": [
            "Please provide a number1: 10\n",
            "Please provide a number2: 10\n",
            "1.0\n"
          ]
        }
      ]
    },
    {
      "cell_type": "code",
      "source": [
        "def divide(number1, number2):\n",
        "   try:\n",
        "       number1_integer = int(number1)\n",
        "       number2_integer = int(number2)\n",
        "       return number1_integer / number2_integer\n",
        "\n",
        "   except ValueError:\n",
        "       return 'Only integers are allowed!'\n",
        "\n",
        "   except ZeroDivisionError:\n",
        "       return 'You cannot divide any number by zero!'\n",
        "\n",
        "\n",
        "\n",
        "number1 = input('Please provide a number1: ')\n",
        "number2 = input('Please provide a number2: ')\n",
        "\n",
        "print(divide(number1, number2))"
      ],
      "metadata": {
        "colab": {
          "base_uri": "https://localhost:8080/"
        },
        "id": "SW6XfGYxIBc5",
        "outputId": "de7fd070-6708-4a58-f021-77f0ad6c0796"
      },
      "execution_count": null,
      "outputs": [
        {
          "output_type": "stream",
          "name": "stdout",
          "text": [
            "Please provide a number1: 50\n",
            "Please provide a number2: 25\n",
            "2.0\n"
          ]
        }
      ]
    },
    {
      "cell_type": "markdown",
      "source": [
        "### Practical exercise 5: Become a teacher assistant"
      ],
      "metadata": {
        "id": "wqOTIRFGIdqw"
      }
    },
    {
      "cell_type": "code",
      "source": [
        "#Define a function compute_grade that takes points as an argument and returns the grade as a letter\n",
        "def compute_grade(points):\n",
        "  if points >= 70:\n",
        "    return 'A'\n",
        "  elif points >= 50:\n",
        "    return 'B'\n",
        "  elif points >= 30:\n",
        "    return 'C'\n",
        "  else:\n",
        "    return 'F'"
      ],
      "metadata": {
        "id": "nwe911s1IZff"
      },
      "execution_count": 1,
      "outputs": []
    },
    {
      "cell_type": "code",
      "source": [
        "#Call the function to convert 39 points to a letter grade\n",
        "compute_grade(39)"
      ],
      "metadata": {
        "colab": {
          "base_uri": "https://localhost:8080/",
          "height": 36
        },
        "id": "g_hp3rBOsDhs",
        "outputId": "9d6aa8f7-2b40-413f-d254-2ce0d89f9465"
      },
      "execution_count": 2,
      "outputs": [
        {
          "output_type": "execute_result",
          "data": {
            "text/plain": [
              "'C'"
            ],
            "application/vnd.google.colaboratory.intrinsic+json": {
              "type": "string"
            }
          },
          "metadata": {},
          "execution_count": 2
        }
      ]
    },
    {
      "cell_type": "code",
      "source": [
        "#Define a function that takes the student name and the points as an argument and the points as an argument and returns the message for the report card\n",
        "def report_message(name, points):\n",
        "  return name + \" scored\" + str(points) + \"/100 points in Chemistry and got the letter \" + compute_grade(points) + \".\""
      ],
      "metadata": {
        "id": "peunkHM7sNnF"
      },
      "execution_count": 3,
      "outputs": []
    },
    {
      "cell_type": "code",
      "source": [
        "#Call the function for you friend Zach\n",
        "report_message('Zach', 51)"
      ],
      "metadata": {
        "colab": {
          "base_uri": "https://localhost:8080/",
          "height": 36
        },
        "id": "p70KcRk-sydj",
        "outputId": "67245199-e313-4134-f75b-edf883cc4d20"
      },
      "execution_count": 4,
      "outputs": [
        {
          "output_type": "execute_result",
          "data": {
            "text/plain": [
              "'Zach scored51/100 points in Chemistry and got the letter B.'"
            ],
            "application/vnd.google.colaboratory.intrinsic+json": {
              "type": "string"
            }
          },
          "metadata": {},
          "execution_count": 4
        }
      ]
    },
    {
      "cell_type": "code",
      "source": [
        "#Create a text file for Zach's report card and write the message inside\n",
        "result_file = open('zach_card.txt', 'w')\n",
        "result_file.write(report_message('Zach', 51))\n",
        "result_file.close()"
      ],
      "metadata": {
        "id": "MSzGTF0ds9dL"
      },
      "execution_count": 5,
      "outputs": []
    },
    {
      "cell_type": "code",
      "source": [
        "#Check if there is already a report card for Sophie and print a message in case there is\n",
        "try:\n",
        "  result_file = open(\"sophie_report.txt\", 'r')\n",
        "  print('There is an existing report card for Sophie')\n",
        "#If there is none, create one and write the message inside\n",
        "except:\n",
        "  result_file = open(\"sophie_report.txt\", 'w')\n",
        "  result_file.write(report_message(\"Sophie\", 78))\n",
        "\n",
        "result_file.close()"
      ],
      "metadata": {
        "id": "UP8Hkf29tNxY"
      },
      "execution_count": 6,
      "outputs": []
    },
    {
      "cell_type": "code",
      "source": [
        "#Define a function that takes the student name and the points as an argument and returns them as specified in the instructions\n",
        "def student_grade(name, points):\n",
        "  #return name:grade\n",
        "  try:\n",
        "    return (name + ':' + compute_grade(points))\n",
        "  #or return a message if the student was missing\n",
        "  except:\n",
        "    return (name + ' was missing during the exam.')"
      ],
      "metadata": {
        "id": "_sEuPyqAtQXw"
      },
      "execution_count": 7,
      "outputs": []
    },
    {
      "cell_type": "code",
      "source": [
        "#Run the list of all students and their points\n",
        "student_list = [('Zach', 51), ('Sophie', 78), ('Fred', 29), ('Belina','missing'), ('Markus','missing')]"
      ],
      "metadata": {
        "id": "KixqWzyqcBXe"
      },
      "execution_count": 8,
      "outputs": []
    },
    {
      "cell_type": "code",
      "source": [
        "#Write a for loop to access each student one at a time and unpack the tuple\n",
        "for name, points in student_list:\n",
        "  grade = student_grade(name, points)\n",
        "  #print the message returned by student_grade\n",
        "  print(grade)"
      ],
      "metadata": {
        "colab": {
          "base_uri": "https://localhost:8080/"
        },
        "id": "IMsjdFRStWuQ",
        "outputId": "11ee22ba-5665-47f9-dfeb-1d42faa6b20a"
      },
      "execution_count": 9,
      "outputs": [
        {
          "output_type": "stream",
          "name": "stdout",
          "text": [
            "Zach:B\n",
            "Sophie:A\n",
            "Fred:F\n",
            "Belina was missing during the exam.\n",
            "Markus was missing during the exam.\n"
          ]
        }
      ]
    },
    {
      "cell_type": "code",
      "source": [
        "#Create the grades.txt file\n",
        "grades_file = open(\"grades.txt\", 'w')\n",
        "\n",
        "#Use the for loop to write the name and grade of each student in the file\n",
        "for name, points in student_list:\n",
        "  grade = student_grade(name, points)\n",
        "  #Write the message returned by student_grade into the file\n",
        "  grades_file.write(grade + '\\n')"
      ],
      "metadata": {
        "id": "7LWzP58utasw"
      },
      "execution_count": 10,
      "outputs": []
    },
    {
      "cell_type": "code",
      "source": [
        "#Close the file\n",
        "grades_file.close()"
      ],
      "metadata": {
        "id": "bXjd-ytet2Bg"
      },
      "execution_count": 11,
      "outputs": []
    }
  ]
}